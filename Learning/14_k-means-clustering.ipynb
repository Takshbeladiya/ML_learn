{
 "cells": [
  {
   "cell_type": "markdown",
   "metadata": {
    "slideshow": {
     "slide_type": "-"
    }
   },
   "source": [
    "# Lecture 14: Clustering \n",
    "\n"
   ]
  },
  {
   "cell_type": "markdown",
   "metadata": {
    "slideshow": {
     "slide_type": "skip"
    }
   },
   "source": [
    "## Imports"
   ]
  },
  {
   "cell_type": "code",
   "execution_count": 5,
   "metadata": {},
   "outputs": [],
   "source": [
    "# !pip install yellowbrick"
   ]
  },
  {
   "cell_type": "code",
   "execution_count": 2,
   "metadata": {
    "slideshow": {
     "slide_type": "skip"
    }
   },
   "outputs": [
    {
     "ename": "ModuleNotFoundError",
     "evalue": "No module named 'plotting_functions'",
     "output_type": "error",
     "traceback": [
      "\u001b[1;31m---------------------------------------------------------------------------\u001b[0m",
      "\u001b[1;31mModuleNotFoundError\u001b[0m                       Traceback (most recent call last)",
      "\u001b[1;32m~\\AppData\\Local\\Temp\\ipykernel_9192\\3442841323.py\u001b[0m in \u001b[0;36m<module>\u001b[1;34m\u001b[0m\n\u001b[0;32m     10\u001b[0m \u001b[1;32mimport\u001b[0m \u001b[0mmglearn\u001b[0m\u001b[1;33m\u001b[0m\u001b[1;33m\u001b[0m\u001b[0m\n\u001b[0;32m     11\u001b[0m \u001b[1;32mimport\u001b[0m \u001b[0mseaborn\u001b[0m \u001b[1;32mas\u001b[0m \u001b[0msns\u001b[0m\u001b[1;33m\u001b[0m\u001b[1;33m\u001b[0m\u001b[0m\n\u001b[1;32m---> 12\u001b[1;33m \u001b[1;32mfrom\u001b[0m \u001b[0mplotting_functions\u001b[0m \u001b[1;32mimport\u001b[0m \u001b[1;33m*\u001b[0m\u001b[1;33m\u001b[0m\u001b[1;33m\u001b[0m\u001b[0m\n\u001b[0m\u001b[0;32m     13\u001b[0m \u001b[1;32mfrom\u001b[0m \u001b[0mplotting_functions_unsup\u001b[0m \u001b[1;32mimport\u001b[0m \u001b[1;33m*\u001b[0m\u001b[1;33m\u001b[0m\u001b[1;33m\u001b[0m\u001b[0m\n\u001b[0;32m     14\u001b[0m \u001b[1;32mfrom\u001b[0m \u001b[0msklearn\u001b[0m \u001b[1;32mimport\u001b[0m \u001b[0mcluster\u001b[0m\u001b[1;33m,\u001b[0m \u001b[0mdatasets\u001b[0m\u001b[1;33m,\u001b[0m \u001b[0mmetrics\u001b[0m\u001b[1;33m\u001b[0m\u001b[1;33m\u001b[0m\u001b[0m\n",
      "\u001b[1;31mModuleNotFoundError\u001b[0m: No module named 'plotting_functions'"
     ]
    }
   ],
   "source": [
    "import os\n",
    "import random\n",
    "import sys\n",
    "import time\n",
    "\n",
    "import numpy as np\n",
    "\n",
    "sys.path.append(\"code1/.\")\n",
    "import matplotlib.pyplot as plt\n",
    "import mglearn\n",
    "import seaborn as sns\n",
    "from plotting_functions import *\n",
    "from plotting_functions_unsup import *\n",
    "from sklearn import cluster, datasets, metrics\n",
    "from sklearn.compose import ColumnTransformer, make_column_transformer\n",
    "from sklearn.datasets import make_blobs\n",
    "from sklearn.decomposition import PCA\n",
    "from sklearn.pipeline import Pipeline, make_pipeline\n",
    "from sklearn.preprocessing import StandardScaler\n",
    "from yellowbrick.cluster import KElbowVisualizer, SilhouetteVisualizer\n",
    "\n",
    "plt.style.use(\"seaborn\")\n",
    "\n",
    "%matplotlib inline"
   ]
  },
  {
   "cell_type": "markdown",
   "metadata": {
    "slideshow": {
     "slide_type": "slide"
    }
   },
   "source": [
    "## Learning outcomes <a name=\"lo\"></a>\n",
    "\n",
    "From this lecture, students are expected to be able to:\n",
    "\n",
    "- Explain the motivation and potential applications of clustering. \n",
    "- Define the clustering problem. \n",
    "- Explain the K-Means algorithm.  \n",
    "- Apply `sklearn`'s `KMeans` algorithm.  \n",
    "- Apply the Elbow method and Silhouette method to choose the number of clusters. \n",
    "- Use clustering for customer segmentation problem. \n",
    "- Interpret the clusters discovered by K-Means. "
   ]
  },
  {
   "cell_type": "markdown",
   "metadata": {
    "slideshow": {
     "slide_type": "slide"
    }
   },
   "source": [
    "## Unsupervised learning "
   ]
  },
  {
   "cell_type": "markdown",
   "metadata": {},
   "source": [
    "### Types of machine learning from \n",
    "\n",
    "Recall the typical learning problems we discussed at the beginning of the course. \n",
    "\n",
    "- Supervised learning ([Gmail spam filtering](https://support.google.com/a/answer/2368132?hl=en))\n",
    "    - Training a model from input data and its corresponding targets to predict targets for new examples. (571, 572, 573)    \n",
    "- **Unsupervised learning** (this course) ([Google News](https://news.google.com/))\n",
    "    - Training a model to find patterns in a dataset, typically an unlabeled dataset.\n",
    "- Reinforcement learning ([AlphaGo](https://deepmind.com/research/case-studies/alphago-the-story-so-far))\n",
    "    - A family of algorithms for finding suitable actions to take in a given situation in order to maximize a reward. \n",
    "- **Recommendation systems** ([Amazon item recommendation system](https://www.cs.umd.edu/~samir/498/Amazon-Recommendations.pdf))\n",
    "    - Predict the \"rating\" or \"preference\" a user would give to an item.    "
   ]
  },
  {
   "cell_type": "markdown",
   "metadata": {
    "slideshow": {
     "slide_type": "slide"
    }
   },
   "source": [
    "### Supervised learning\n",
    "\n",
    "- Training data comprises a set of observations ($X$) and their corresponding targets ($y$). \n",
    "- We wish to find a model function $f$ that relates $X$ to $y$.\n",
    "- Then use that model function to predict the targets of new examples.\n",
    "- We have been working with this set up so far. \n",
    "\n",
    "![](img/sup-learning.png)\n",
    "\n",
    "<!-- <img src=\"img/sup-learning.png\" height=\"1000\" width=\"1000\">  -->"
   ]
  },
  {
   "cell_type": "markdown",
   "metadata": {
    "slideshow": {
     "slide_type": "slide"
    }
   },
   "source": [
    "### Labeled vs. Unlabeled data\n",
    "- If you have access to labeled training data, you're in the \"supervised\" setting. \n",
    "- You know what to do in that case. \n",
    "- Unfortunately, getting large amount of labeled training data is often difficult, expensive, or simply impossible in some cases. \n",
    "- Can you still make sense of the data even though you do not have the labels? \n",
    "- Yes! At least to a certain extent! "
   ]
  },
  {
   "cell_type": "markdown",
   "metadata": {
    "slideshow": {
     "slide_type": "slide"
    }
   },
   "source": [
    "### Unsupervised learning\n",
    "\n",
    "- Training data consists of observations ($X$) without any corresponding targets.\n",
    "- Unsupervised learning could be used to group similar things together in $X$. \n",
    "\n",
    "![](img/unsup-learning.png)\n",
    "\n",
    "<!-- <img src=\"img/unsup-learning.png\" alt=\"\" height=\"900\" width=\"900\">  -->"
   ]
  },
  {
   "cell_type": "markdown",
   "metadata": {
    "slideshow": {
     "slide_type": "slide"
    }
   },
   "source": [
    "### Example: Supervised vs unsupervised learning\n",
    "\n",
    "- In supervised learning, we are given features $X$ and target $y$. "
   ]
  },
  {
   "cell_type": "markdown",
   "metadata": {
    "slideshow": {
     "slide_type": "-"
    }
   },
   "source": [
    "\n",
    "<table>\n",
    "<tr style=\"background-color:white;\">\n",
    "    <td>\n",
    "        <table>\n",
    "            <tr>\n",
    "                <td colspan=\"2\" style=\"text-align:center;\"> <b>Dataset 1</b> </td>\n",
    "                <td></td>\n",
    "            </tr>\n",
    "            <tr>\n",
    "                <td>$x_1$</td>\n",
    "                <td>$y$</td>\n",
    "            </tr>\n",
    "            <tr>\n",
    "                <td> 101.0\n",
    "                <td> Sick\n",
    "            </tr>\n",
    "            <tr>\n",
    "                <td> 98.5 \n",
    "                <td> Not Sick\n",
    "            </tr>\n",
    "            <tr>\n",
    "                <td> 93.8 \n",
    "                <td> Sick\n",
    "            </tr>\n",
    "            <tr>\n",
    "                <td> 104.3\n",
    "                <td> Sick\n",
    "            </tr>\n",
    "            <tr>\n",
    "                <td> 98.6 \n",
    "                <td> Not Sick\n",
    "            </tr>\n",
    "        </table>\n",
    "    </td>\n",
    "    <td>\n",
    "       <table>\n",
    "            <tr>\n",
    "                <td colspan=\"3\" style=\"text-align:center;\"> <b>Dataset2</b> </td>\n",
    "                <td></td>\n",
    "            </tr>\n",
    "            <tr>\n",
    "                <td>$x_1$</td>\n",
    "                <td>$x_2$</td>\n",
    "                <td>$y$</td>\n",
    "            </tr>\n",
    "            <tr>\n",
    "                <td> -2.68\n",
    "                <td> 0.32 \n",
    "                <td>class 1\n",
    "            </tr>\n",
    "            <tr>\n",
    "                <td> -2.71\n",
    "                <td> -0.18\n",
    "                <td> class 1\n",
    "            </tr>\n",
    "            <tr>\n",
    "                <td> 1.28  \n",
    "                <td> 0.69    \n",
    "                <td> class 2\n",
    "            </tr>\n",
    "            <tr>\n",
    "                <td> 0.93  \n",
    "                <td> 0.32   \n",
    "                <td> class 2\n",
    "            </tr>\n",
    "            <tr>\n",
    "                <td> 1.39\n",
    "                <td> -0.28 \n",
    "                <td> class 3\n",
    "            </tr>\n",
    "        </table>\n",
    "    </td>\n",
    "</tr>\n",
    "</table>"
   ]
  },
  {
   "cell_type": "markdown",
   "metadata": {
    "slideshow": {
     "slide_type": "fragment"
    }
   },
   "source": [
    "- In unsupervised learning, we are only given features $X$. "
   ]
  },
  {
   "cell_type": "markdown",
   "metadata": {
    "slideshow": {
     "slide_type": "fragment"
    }
   },
   "source": [
    "<table>\n",
    "<tr style=\"background-color:white;\">\n",
    "    <td>\n",
    "        <table>\n",
    "            <tr>\n",
    "                <td colspan=\"2\" style=\"text-align:center;\"> <b>Dataset 1</b> </td>\n",
    "                <td></td>\n",
    "            </tr>\n",
    "            <tr>\n",
    "                <td>$x_1$</td>\n",
    "            </tr>\n",
    "            <tr>\n",
    "                <td> 101.0\n",
    "            </tr>\n",
    "            <tr>\n",
    "                <td> 98.5 \n",
    "            </tr>\n",
    "            <tr>\n",
    "                <td> 93.8 \n",
    "            </tr>\n",
    "            <tr>\n",
    "                <td> 104.3\n",
    "            </tr>\n",
    "            <tr>\n",
    "                <td> 98.6 \n",
    "            </tr>\n",
    "        </table>\n",
    "    </td>\n",
    "    <td>\n",
    "       <table>\n",
    "            <tr>\n",
    "                <td colspan=\"3\" style=\"text-align:center;\"> <b>Dataset 2</b> </td>\n",
    "                <td></td>\n",
    "            </tr>\n",
    "            <tr>\n",
    "                <td>$x_1$</td>\n",
    "                <td>$x_2$</td>\n",
    "            </tr>\n",
    "            <tr>\n",
    "                <td> -2.68\n",
    "                <td> 0.32 \n",
    "            </tr>\n",
    "            <tr>\n",
    "                <td> -2.71\n",
    "                <td> -0.18\n",
    "            </tr>\n",
    "            <tr>\n",
    "                <td> 1.28  \n",
    "                <td> 0.69    \n",
    "            </tr>\n",
    "            <tr>\n",
    "                <td> 0.93  \n",
    "                <td> 0.32   \n",
    "            </tr>\n",
    "            <tr>\n",
    "                <td> 1.39\n",
    "                <td> -0.28 \n",
    "            </tr>\n",
    "        </table>\n",
    "    </td>\n",
    "</tr>\n",
    "</table>"
   ]
  },
  {
   "cell_type": "markdown",
   "metadata": {
    "slideshow": {
     "slide_type": "slide"
    }
   },
   "source": [
    "### An example with `sklearn` toy dataset"
   ]
  },
  {
   "cell_type": "code",
   "execution_count": 7,
   "metadata": {},
   "outputs": [
    {
     "data": {
      "text/html": [
       "<div>\n",
       "<style scoped>\n",
       "    .dataframe tbody tr th:only-of-type {\n",
       "        vertical-align: middle;\n",
       "    }\n",
       "\n",
       "    .dataframe tbody tr th {\n",
       "        vertical-align: top;\n",
       "    }\n",
       "\n",
       "    .dataframe thead th {\n",
       "        text-align: right;\n",
       "    }\n",
       "</style>\n",
       "<table border=\"1\" class=\"dataframe\">\n",
       "  <thead>\n",
       "    <tr style=\"text-align: right;\">\n",
       "      <th></th>\n",
       "      <th>petal length (cm)</th>\n",
       "      <th>petal width (cm)</th>\n",
       "    </tr>\n",
       "  </thead>\n",
       "  <tbody>\n",
       "    <tr>\n",
       "      <th>0</th>\n",
       "      <td>1.4</td>\n",
       "      <td>0.2</td>\n",
       "    </tr>\n",
       "    <tr>\n",
       "      <th>1</th>\n",
       "      <td>1.4</td>\n",
       "      <td>0.2</td>\n",
       "    </tr>\n",
       "    <tr>\n",
       "      <th>2</th>\n",
       "      <td>1.3</td>\n",
       "      <td>0.2</td>\n",
       "    </tr>\n",
       "    <tr>\n",
       "      <th>3</th>\n",
       "      <td>1.5</td>\n",
       "      <td>0.2</td>\n",
       "    </tr>\n",
       "    <tr>\n",
       "      <th>4</th>\n",
       "      <td>1.4</td>\n",
       "      <td>0.2</td>\n",
       "    </tr>\n",
       "  </tbody>\n",
       "</table>\n",
       "</div>"
      ],
      "text/plain": [
       "   petal length (cm)  petal width (cm)\n",
       "0                1.4               0.2\n",
       "1                1.4               0.2\n",
       "2                1.3               0.2\n",
       "3                1.5               0.2\n",
       "4                1.4               0.2"
      ]
     },
     "execution_count": 7,
     "metadata": {},
     "output_type": "execute_result"
    }
   ],
   "source": [
    "## Iris dataset\n",
    "iris = datasets.load_iris()  # loading the iris dataset\n",
    "features = iris.data[:, 2:4]  # only consider two features for visualization\n",
    "labels = iris.target_names[\n",
    "    iris.target\n",
    "]  # get the targets, in this case the types of the Iris flower\n",
    "\n",
    "iris_df = pd.DataFrame(features, columns=iris.feature_names[2:])\n",
    "iris_df.head()"
   ]
  },
  {
   "cell_type": "code",
   "execution_count": 8,
   "metadata": {
    "slideshow": {
     "slide_type": "-"
    }
   },
   "outputs": [
    {
     "data": {
      "text/plain": [
       "array(['setosa', 'versicolor', 'virginica'], dtype='<U10')"
      ]
     },
     "execution_count": 8,
     "metadata": {},
     "output_type": "execute_result"
    }
   ],
   "source": [
    "np.unique(labels)"
   ]
  },
  {
   "cell_type": "code",
   "execution_count": 9,
   "metadata": {
    "slideshow": {
     "slide_type": "slide"
    }
   },
   "outputs": [
    {
     "data": {
      "image/png": "[encoded data removed]",
      "text/plain": [
       "<Figure size 800x800 with 2 Axes>"
      ]
     },
     "metadata": {},
     "output_type": "display_data"
    }
   ],
   "source": [
    "iris_df[\"target\"] = labels\n",
    "plot_sup_x_unsup(iris_df, 8, 8)"
   ]
  },
  {
   "cell_type": "markdown",
   "metadata": {
    "slideshow": {
     "slide_type": "-"
    }
   },
   "source": [
    "- In case of supervised learning, we're given $X$ and $y$ (showed with different colours in the plot above). \n",
    "- In case of unsupervised learning, we're only given $X$ and the goal is to identify the underlying structure in data.  "
   ]
  },
  {
   "cell_type": "markdown",
   "metadata": {
    "slideshow": {
     "slide_type": "slide"
    }
   },
   "source": [
    "### Can we learn without targets?"
   ]
  },
  {
   "cell_type": "markdown",
   "metadata": {
    "slideshow": {
     "slide_type": "fragment"
    }
   },
   "source": [
    "- Yes, but the learning will be focused on finding the underlying structures of the inputs themselves (rather than finding the function $f$ between input and output like we did in supervised learning models). \n",
    "\n",
    "- Examples:\n",
    "    - Clustering\n",
    "    - Dimensionality Reduction (we won't cover it in this course)"
   ]
  },
  {
   "cell_type": "markdown",
   "metadata": {
    "slideshow": {
     "slide_type": "skip"
    }
   },
   "source": [
    "<br><br>"
   ]
  },
  {
   "cell_type": "markdown",
   "metadata": {
    "slideshow": {
     "slide_type": "slide"
    }
   },
   "source": [
    "## Clustering motivation "
   ]
  },
  {
   "cell_type": "markdown",
   "metadata": {
    "slideshow": {
     "slide_type": "slide"
    }
   },
   "source": [
    "### Why clustering? \n",
    "\n",
    "- Most of the data out there is unlabeled.  \n",
    "- Getting labeled training data is often difficult, expensive, or simply impossible in some cases. \n",
    "- Can we extract some useful information from unlabeled data? \n",
    "- The most intuitive way is to group similar examples together to get some insight into the data even though we do not have the targets.  "
   ]
  },
  {
   "cell_type": "markdown",
   "metadata": {
    "slideshow": {
     "slide_type": "slide"
    }
   },
   "source": [
    "### Clustering  \n",
    "\n",
    "**Clustering** is the task of partitioning the dataset into groups called clusters.\n",
    "\n",
    "The goal of clustering is to discover underlying groups in a given dataset such that:\n",
    "- examples in the same group are as similar as possible;\n",
    "- examples in different groups are as different as possible.          "
   ]
  },
  {
   "cell_type": "markdown",
   "metadata": {
    "slideshow": {
     "slide_type": "slide"
    }
   },
   "source": [
    "### Input and possible output"
   ]
  },
  {
   "cell_type": "code",
   "execution_count": 10,
   "metadata": {},
   "outputs": [
    {
     "data": {
      "image/png": "[encoded data removed]",
      "text/plain": [
       "<Figure size 1200x400 with 2 Axes>"
      ]
     },
     "metadata": {},
     "output_type": "display_data"
    }
   ],
   "source": [
    "X, y = make_blobs(n_samples=10, centers=3, n_features=2, random_state=10)\n",
    "fig, axes = plt.subplots(1, 2, figsize=(12, 4))\n",
    "mglearn.discrete_scatter(X[:, 0], X[:, 1], markers=\"o\", ax=axes[0])\n",
    "mglearn.discrete_scatter(X[:, 0], X[:, 1], y, markers=\"o\", ax=axes[1]);"
   ]
  },
  {
   "cell_type": "markdown",
   "metadata": {
    "slideshow": {
     "slide_type": "-"
    }
   },
   "source": [
    "Think of clustering as colouring the points (e.g., blue, red, green) such that points with the same color are close to each other. "
   ]
  },
  {
   "cell_type": "code",
   "execution_count": 11,
   "metadata": {
    "slideshow": {
     "slide_type": "slide"
    }
   },
   "outputs": [
    {
     "data": {
      "image/png": "[encoded data removed]",
      "text/plain": [
       "<Figure size 800x550 with 1 Axes>"
      ]
     },
     "metadata": {},
     "output_type": "display_data"
    }
   ],
   "source": [
    "mglearn.discrete_scatter(X[:, 0], X[:, 1], y, markers=\"o\")\n",
    "plt.legend();"
   ]
  },
  {
   "cell_type": "markdown",
   "metadata": {
    "slideshow": {
     "slide_type": "-"
    }
   },
   "source": [
    "- Usually the clusters are identified by a **cluster label**. \n",
    "- These labels are arbitrary, and relabeling the points (label switching) does not make a difference. \n",
    "- What we care about is which points have the same labels and which ones have different labels. "
   ]
  },
  {
   "cell_type": "markdown",
   "metadata": {
    "slideshow": {
     "slide_type": "slide"
    }
   },
   "source": [
    "### Is there a notion of \"correct\" grouping?\n",
    "\n",
    "- Very often we do not know how many clusters are there in the data or if there are any clusters at all. In real-world data, clusters are rarely as clear as in our toy example above. \n",
    "- There is a notion of coherent and optimal (in some sense) clusters but there is no absolute truth here. "
   ]
  },
  {
   "cell_type": "markdown",
   "metadata": {
    "slideshow": {
     "slide_type": "slide"
    }
   },
   "source": [
    "### Example 1\n",
    "Which of the following grouping of emoticons is the \"correct\" grouping?\n",
    "\n",
    "![](img/emoticon_clustering_example.png)\n",
    "\n",
    "<!-- <img src=\"img/emoticon_clustering_example.png\" height=\"800\" width=\"800\">  -->\n"
   ]
  },
  {
   "cell_type": "markdown",
   "metadata": {
    "slideshow": {
     "slide_type": "fragment"
    }
   },
   "source": [
    "Both seem reasonable! "
   ]
  },
  {
   "cell_type": "markdown",
   "metadata": {
    "slideshow": {
     "slide_type": "slide"
    }
   },
   "source": [
    "### Example 2\n",
    "\n",
    "How would you group a deck of cards? \n",
    "\n",
    "- In a deck of cards:\n",
    "    1. We have two colors: black and <font color=\"red\">red</font>;\n",
    "    2. We have four suits: Clubs, Spades, <font color=\"red\">Hearts</font>, and <font color=\"red\">Diamonds</font>;\n",
    "    3. We have 13 values: $\\left\\{A,2,3,4,5,6,7,8,9,10,J,Q,K\\right\\}$.\n",
    "    \n",
    "- What are the \"true\" clusters here?    "
   ]
  },
  {
   "cell_type": "markdown",
   "metadata": {
    "slideshow": {
     "slide_type": "slide"
    }
   },
   "source": [
    "Should we cluster by suits: Clubs, Spades, <font color=\"red\">Hearts</font>, and <font color=\"red\">Diamonds</font>?"
   ]
  },
  {
   "cell_type": "code",
   "execution_count": 12,
   "metadata": {
    "slideshow": {
     "slide_type": "-"
    }
   },
   "outputs": [
    {
     "data": {
      "image/png": "[encoded data removed]",
      "text/plain": [
       "<Figure size 1600x600 with 1 Axes>"
      ]
     },
     "metadata": {},
     "output_type": "display_data"
    }
   ],
   "source": [
    "plot_deck(group_by=\"suits\", w=16, h=6)"
   ]
  },
  {
   "cell_type": "markdown",
   "metadata": {
    "slideshow": {
     "slide_type": "slide"
    }
   },
   "source": [
    "Should we cluster by colors?"
   ]
  },
  {
   "cell_type": "code",
   "execution_count": 13,
   "metadata": {
    "slideshow": {
     "slide_type": "-"
    }
   },
   "outputs": [
    {
     "data": {
      "image/png": "[encoded data removed]",
      "text/plain": [
       "<Figure size 1600x600 with 1 Axes>"
      ]
     },
     "metadata": {},
     "output_type": "display_data"
    }
   ],
   "source": [
    "plot_deck(group_by=\"color\", w=16, h=6)"
   ]
  },
  {
   "cell_type": "markdown",
   "metadata": {
    "slideshow": {
     "slide_type": "slide"
    }
   },
   "source": [
    "Should we cluster by value?"
   ]
  },
  {
   "cell_type": "code",
   "execution_count": 14,
   "metadata": {
    "slideshow": {
     "slide_type": "-"
    }
   },
   "outputs": [
    {
     "data": {
      "image/png": "[encoded data removed]",
      "text/plain": [
       "<Figure size 1600x500 with 1 Axes>"
      ]
     },
     "metadata": {},
     "output_type": "display_data"
    }
   ],
   "source": [
    "plot_deck(group_by=\"cards\", w=16, h=5)"
   ]
  },
  {
   "cell_type": "markdown",
   "metadata": {},
   "source": [
    "- All these options seem reasonable. "
   ]
  },
  {
   "cell_type": "markdown",
   "metadata": {
    "slideshow": {
     "slide_type": "slide"
    }
   },
   "source": [
    "### Meaningful groups in clustering \n",
    "- In clustering, meaningful groups are dependent on the **application**.\n",
    "- It usually helps if we have some prior knowledge about the data and the problem.   \n",
    "- This makes it hard for us to objectively measure the quality of a clustering algorithm (or think about \"true\" clusters)."
   ]
  },
  {
   "cell_type": "markdown",
   "metadata": {
    "slideshow": {
     "slide_type": "slide"
    }
   },
   "source": [
    "### Common applications: Data exploration\n",
    "\n",
    "Although there is no notion of the \"right\" answer, we might still get something useful out of clustering. There are a number of common applications for clustering. \n",
    "\n",
    "- Summarize or compress data. \n",
    "- Partition the data into groups before further processing. \n",
    "- For instance, you could use it in supervised learning setting as follows. Carry out clustering and examine performance of your model on individual clusters. If the performance is lower on a particular cluster, you could either try building a separate model for that cluster and improve the overall performance of your supervised model. "
   ]
  },
  {
   "cell_type": "markdown",
   "metadata": {
    "slideshow": {
     "slide_type": "slide"
    }
   },
   "source": [
    "### Common applications: Customer segmentation\n",
    "\n",
    "- Understand landscape of the market in businesses and craft targeted business or marketing strategies tailored for each group.\n",
    "\n",
    "![](img/emoticon_clustering_example.png)\n",
    "\n",
    "<!-- <img src=\"img/emoticon_clustering_example.png\" height=\"600\" width=\"600\">  -->\n",
    "    \n",
    "[source](https://www.youtube.com/watch?v=zPJtDohab-g&t=134s)"
   ]
  },
  {
   "cell_type": "markdown",
   "metadata": {
    "slideshow": {
     "slide_type": "slide"
    }
   },
   "source": [
    "### Document clustering\n",
    "\n",
    "Grouping articles on different topics from different news sources. For example, [Google News](https://news.google.com). \n",
    "\n",
    "![](img/google_news.png)\n",
    "\n",
    "<!-- <img src=\"img/google_news.png\" alt=\"\" height=\"1200\" width=\"1200\">     -->"
   ]
  },
  {
   "cell_type": "markdown",
   "metadata": {
    "slideshow": {
     "slide_type": "slide"
    }
   },
   "source": [
    "### Similarity and distances\n",
    "\n",
    "- Clustering is based on the notion of similarity or distances between points. \n",
    "- How do we determine similarity between points in a multi-dimensional space?\n",
    "- Can we use something like $k$-neighbours for similarity? \n",
    "    - Yes! That's a good start!  \n",
    "    - With $k$-neighbours we used Euclidean distances to find nearby points. \n",
    "    - We can use the same idea for clustering! \n"
   ]
  },
  {
   "cell_type": "markdown",
   "metadata": {
    "slideshow": {
     "slide_type": "slide"
    }
   },
   "source": [
    "<br><br><br><br><br><br>"
   ]
  },
  {
   "cell_type": "markdown",
   "metadata": {
    "slideshow": {
     "slide_type": "slide"
    }
   },
   "source": [
    "## K-Means clustering algorithm "
   ]
  },
  {
   "cell_type": "markdown",
   "metadata": {
    "slideshow": {
     "slide_type": "slide"
    }
   },
   "source": [
    "### K-Means clustering \n",
    "\n",
    "One of the most commonly used clustering algorithm. \n",
    "\n",
    "**Input**\n",
    "- `X` $\\rightarrow$ a set of data points  \n",
    "- `K` (or $k$ or `n_clusters`) $\\rightarrow$ number of clusters\n",
    "\n",
    "**Output**\n",
    "- `K` clusters (groups) of the data points \n",
    "\n"
   ]
  },
  {
   "cell_type": "markdown",
   "metadata": {
    "slideshow": {
     "slide_type": "slide"
    }
   },
   "source": [
    "### K-Means using `sklearn`\n",
    "- Before understanding the algorithm, let's try it with `sklearn`. \n",
    "- Consider the toy dataset above. \n",
    "- For this toy dataset, the three clusters are pretty clear.  "
   ]
  },
  {
   "cell_type": "code",
   "execution_count": 15,
   "metadata": {
    "slideshow": {
     "slide_type": "-"
    }
   },
   "outputs": [
    {
     "data": {
      "image/png": "[encoded data removed]",
      "text/plain": [
       "<Figure size 800x550 with 1 Axes>"
      ]
     },
     "metadata": {},
     "output_type": "display_data"
    }
   ],
   "source": [
    "X, y = make_blobs(n_samples=10, centers=3, n_features=2, random_state=10)\n",
    "mglearn.discrete_scatter(X[:, 0], X[:, 1], markers=\"o\");"
   ]
  },
  {
   "cell_type": "code",
   "execution_count": 16,
   "metadata": {
    "slideshow": {
     "slide_type": "slide"
    }
   },
   "outputs": [
    {
     "data": {
      "text/plain": [
       "array([[  5.69192445,  -9.47641249],\n",
       "       [  1.70789903,   6.00435173],\n",
       "       [  0.23621041,  -3.11909976],\n",
       "       [  2.90159483,   5.42121526],\n",
       "       [  5.85943906,  -8.38192364],\n",
       "       [  6.04774884, -10.30504657],\n",
       "       [ -2.00758803,  -7.24743939],\n",
       "       [  1.45467725,  -6.58387198],\n",
       "       [  1.53636249,   5.11121453],\n",
       "       [  5.4307043 ,  -9.75956122]])"
      ]
     },
     "execution_count": 16,
     "metadata": {},
     "output_type": "execute_result"
    }
   ],
   "source": [
    "X"
   ]
  },
  {
   "cell_type": "code",
   "execution_count": 17,
   "metadata": {
    "slideshow": {
     "slide_type": "-"
    }
   },
   "outputs": [
    {
     "data": {
      "text/html": [
       "<div>\n",
       "<style scoped>\n",
       "    .dataframe tbody tr th:only-of-type {\n",
       "        vertical-align: middle;\n",
       "    }\n",
       "\n",
       "    .dataframe tbody tr th {\n",
       "        vertical-align: top;\n",
       "    }\n",
       "\n",
       "    .dataframe thead th {\n",
       "        text-align: right;\n",
       "    }\n",
       "</style>\n",
       "<table border=\"1\" class=\"dataframe\">\n",
       "  <thead>\n",
       "    <tr style=\"text-align: right;\">\n",
       "      <th></th>\n",
       "      <th>feat1</th>\n",
       "      <th>feat2</th>\n",
       "    </tr>\n",
       "  </thead>\n",
       "  <tbody>\n",
       "    <tr>\n",
       "      <th>0</th>\n",
       "      <td>5.691924</td>\n",
       "      <td>-9.476412</td>\n",
       "    </tr>\n",
       "    <tr>\n",
       "      <th>1</th>\n",
       "      <td>1.707899</td>\n",
       "      <td>6.004352</td>\n",
       "    </tr>\n",
       "    <tr>\n",
       "      <th>2</th>\n",
       "      <td>0.236210</td>\n",
       "      <td>-3.119100</td>\n",
       "    </tr>\n",
       "    <tr>\n",
       "      <th>3</th>\n",
       "      <td>2.901595</td>\n",
       "      <td>5.421215</td>\n",
       "    </tr>\n",
       "    <tr>\n",
       "      <th>4</th>\n",
       "      <td>5.859439</td>\n",
       "      <td>-8.381924</td>\n",
       "    </tr>\n",
       "    <tr>\n",
       "      <th>5</th>\n",
       "      <td>6.047749</td>\n",
       "      <td>-10.305047</td>\n",
       "    </tr>\n",
       "    <tr>\n",
       "      <th>6</th>\n",
       "      <td>-2.007588</td>\n",
       "      <td>-7.247439</td>\n",
       "    </tr>\n",
       "    <tr>\n",
       "      <th>7</th>\n",
       "      <td>1.454677</td>\n",
       "      <td>-6.583872</td>\n",
       "    </tr>\n",
       "    <tr>\n",
       "      <th>8</th>\n",
       "      <td>1.536362</td>\n",
       "      <td>5.111215</td>\n",
       "    </tr>\n",
       "    <tr>\n",
       "      <th>9</th>\n",
       "      <td>5.430704</td>\n",
       "      <td>-9.759561</td>\n",
       "    </tr>\n",
       "  </tbody>\n",
       "</table>\n",
       "</div>"
      ],
      "text/plain": [
       "      feat1      feat2\n",
       "0  5.691924  -9.476412\n",
       "1  1.707899   6.004352\n",
       "2  0.236210  -3.119100\n",
       "3  2.901595   5.421215\n",
       "4  5.859439  -8.381924\n",
       "5  6.047749 -10.305047\n",
       "6 -2.007588  -7.247439\n",
       "7  1.454677  -6.583872\n",
       "8  1.536362   5.111215\n",
       "9  5.430704  -9.759561"
      ]
     },
     "execution_count": 17,
     "metadata": {},
     "output_type": "execute_result"
    }
   ],
   "source": [
    "toy_df = pd.DataFrame(data=X, columns=[\"feat1\", \"feat2\"])\n",
    "toy_df"
   ]
  },
  {
   "cell_type": "markdown",
   "metadata": {
    "slideshow": {
     "slide_type": "slide"
    }
   },
   "source": [
    "### `KMeans` `fit`\n",
    "Let's try `sklearn`'s `KMeans` algorithm on this dataset.\n",
    "- We need to decide how many clusters we want. Here we are passing 3. \n",
    "- We are only passing `X` because this is unsupervised learning; we do not have labels.  "
   ]
  },
  {
   "cell_type": "code",
   "execution_count": 18,
   "metadata": {},
   "outputs": [
    {
     "data": {
      "text/plain": [
       "KMeans(n_clusters=3)"
      ]
     },
     "execution_count": 18,
     "metadata": {},
     "output_type": "execute_result"
    }
   ],
   "source": [
    "from sklearn.cluster import KMeans\n",
    "\n",
    "kmeans = KMeans(n_clusters=3)\n",
    "kmeans.fit(X)\n",
    "# We are only passing X because this is unsupervised learning"
   ]
  },
  {
   "cell_type": "markdown",
   "metadata": {
    "slideshow": {
     "slide_type": "slide"
    }
   },
   "source": [
    "### `predict` of `KMeans`\n",
    "\n",
    "- The output of `KMeans` is $K$ clusters (groups) of the data points. \n",
    "- Calling `predict` will give us the cluster assignment for each data point. "
   ]
  },
  {
   "cell_type": "code",
   "execution_count": 19,
   "metadata": {},
   "outputs": [
    {
     "data": {
      "text/plain": [
       "array([0, 1, 2, 1, 0, 0, 2, 2, 1, 0])"
      ]
     },
     "execution_count": 19,
     "metadata": {},
     "output_type": "execute_result"
    }
   ],
   "source": [
    "kmeans.predict(X)"
   ]
  },
  {
   "cell_type": "code",
   "execution_count": 20,
   "metadata": {},
   "outputs": [
    {
     "name": "stderr",
     "output_type": "stream",
     "text": [
      "C:\\anaconda\\lib\\site-packages\\sklearn\\base.py:443: UserWarning:\n",
      "\n",
      "X has feature names, but KMeans was fitted without feature names\n",
      "\n"
     ]
    },
    {
     "data": {
      "text/html": [
       "<div>\n",
       "<style scoped>\n",
       "    .dataframe tbody tr th:only-of-type {\n",
       "        vertical-align: middle;\n",
       "    }\n",
       "\n",
       "    .dataframe tbody tr th {\n",
       "        vertical-align: top;\n",
       "    }\n",
       "\n",
       "    .dataframe thead th {\n",
       "        text-align: right;\n",
       "    }\n",
       "</style>\n",
       "<table border=\"1\" class=\"dataframe\">\n",
       "  <thead>\n",
       "    <tr style=\"text-align: right;\">\n",
       "      <th></th>\n",
       "      <th>feat1</th>\n",
       "      <th>feat2</th>\n",
       "      <th>cluster</th>\n",
       "    </tr>\n",
       "  </thead>\n",
       "  <tbody>\n",
       "    <tr>\n",
       "      <th>0</th>\n",
       "      <td>5.691924</td>\n",
       "      <td>-9.476412</td>\n",
       "      <td>0</td>\n",
       "    </tr>\n",
       "    <tr>\n",
       "      <th>1</th>\n",
       "      <td>1.707899</td>\n",
       "      <td>6.004352</td>\n",
       "      <td>1</td>\n",
       "    </tr>\n",
       "    <tr>\n",
       "      <th>2</th>\n",
       "      <td>0.236210</td>\n",
       "      <td>-3.119100</td>\n",
       "      <td>2</td>\n",
       "    </tr>\n",
       "    <tr>\n",
       "      <th>3</th>\n",
       "      <td>2.901595</td>\n",
       "      <td>5.421215</td>\n",
       "      <td>1</td>\n",
       "    </tr>\n",
       "    <tr>\n",
       "      <th>4</th>\n",
       "      <td>5.859439</td>\n",
       "      <td>-8.381924</td>\n",
       "      <td>0</td>\n",
       "    </tr>\n",
       "    <tr>\n",
       "      <th>5</th>\n",
       "      <td>6.047749</td>\n",
       "      <td>-10.305047</td>\n",
       "      <td>0</td>\n",
       "    </tr>\n",
       "    <tr>\n",
       "      <th>6</th>\n",
       "      <td>-2.007588</td>\n",
       "      <td>-7.247439</td>\n",
       "      <td>2</td>\n",
       "    </tr>\n",
       "    <tr>\n",
       "      <th>7</th>\n",
       "      <td>1.454677</td>\n",
       "      <td>-6.583872</td>\n",
       "      <td>2</td>\n",
       "    </tr>\n",
       "    <tr>\n",
       "      <th>8</th>\n",
       "      <td>1.536362</td>\n",
       "      <td>5.111215</td>\n",
       "      <td>1</td>\n",
       "    </tr>\n",
       "    <tr>\n",
       "      <th>9</th>\n",
       "      <td>5.430704</td>\n",
       "      <td>-9.759561</td>\n",
       "      <td>0</td>\n",
       "    </tr>\n",
       "  </tbody>\n",
       "</table>\n",
       "</div>"
      ],
      "text/plain": [
       "      feat1      feat2  cluster\n",
       "0  5.691924  -9.476412        0\n",
       "1  1.707899   6.004352        1\n",
       "2  0.236210  -3.119100        2\n",
       "3  2.901595   5.421215        1\n",
       "4  5.859439  -8.381924        0\n",
       "5  6.047749 -10.305047        0\n",
       "6 -2.007588  -7.247439        2\n",
       "7  1.454677  -6.583872        2\n",
       "8  1.536362   5.111215        1\n",
       "9  5.430704  -9.759561        0"
      ]
     },
     "execution_count": 20,
     "metadata": {},
     "output_type": "execute_result"
    }
   ],
   "source": [
    "toy_df_cl = toy_df.copy()\n",
    "toy_df_cl[\"cluster\"] = kmeans.predict(toy_df)\n",
    "toy_df_cl"
   ]
  },
  {
   "cell_type": "markdown",
   "metadata": {
    "slideshow": {
     "slide_type": "slide"
    }
   },
   "source": [
    "### Cluster centers in  K-Means\n",
    "\n",
    "- In K-Means each cluster is represented by its cluster center. "
   ]
  },
  {
   "cell_type": "code",
   "execution_count": 21,
   "metadata": {},
   "outputs": [
    {
     "data": {
      "text/plain": [
       "array([[ 5.75745416, -9.48073598],\n",
       "       [ 2.04861878,  5.51226051],\n",
       "       [-0.10556679, -5.65013704]])"
      ]
     },
     "execution_count": 21,
     "metadata": {},
     "output_type": "execute_result"
    }
   ],
   "source": [
    "kmeans.cluster_centers_"
   ]
  },
  {
   "cell_type": "code",
   "execution_count": 22,
   "metadata": {
    "slideshow": {
     "slide_type": "-"
    }
   },
   "outputs": [
    {
     "data": {
      "image/png": "[encoded data removed]",
      "text/plain": [
       "<Figure size 800x550 with 1 Axes>"
      ]
     },
     "metadata": {},
     "output_type": "display_data"
    }
   ],
   "source": [
    "mglearn.discrete_scatter(X[:, 0], X[:, 1], kmeans.labels_, markers=\"o\")\n",
    "plt.legend()\n",
    "mglearn.discrete_scatter(\n",
    "    kmeans.cluster_centers_[:, 0], kmeans.cluster_centers_[:, 1], [0, 1, 2], markers=\"*\"\n",
    ");"
   ]
  },
  {
   "cell_type": "markdown",
   "metadata": {
    "slideshow": {
     "slide_type": "slide"
    }
   },
   "source": [
    "### K-Means predictions on new examples \n",
    "- We can also use `predict` on unseen examples!  "
   ]
  },
  {
   "cell_type": "code",
   "execution_count": 23,
   "metadata": {},
   "outputs": [
    {
     "data": {
      "text/plain": [
       "array([2, 1])"
      ]
     },
     "execution_count": 23,
     "metadata": {},
     "output_type": "execute_result"
    }
   ],
   "source": [
    "new_examples = np.array([[-1, -5], [2, 5.0]])\n",
    "kmeans.predict(new_examples)"
   ]
  },
  {
   "cell_type": "code",
   "execution_count": 24,
   "metadata": {},
   "outputs": [
    {
     "data": {
      "image/png": "[encoded data removed]",
      "text/plain": [
       "<Figure size 800x550 with 1 Axes>"
      ]
     },
     "metadata": {},
     "output_type": "display_data"
    }
   ],
   "source": [
    "mglearn.discrete_scatter(X[:, 0], X[:, 1], kmeans.labels_, markers=\"o\")\n",
    "plt.legend()\n",
    "mglearn.discrete_scatter(new_examples[:, 0], new_examples[:, 1], markers=\"^\", s=15)\n",
    "mglearn.discrete_scatter(\n",
    "    kmeans.cluster_centers_[:, 0], kmeans.cluster_centers_[:, 1], [0, 1, 2], markers=\"*\"\n",
    ");"
   ]
  },
  {
   "cell_type": "markdown",
   "metadata": {
    "slideshow": {
     "slide_type": "slide"
    }
   },
   "source": [
    "### K-Means algorithm: Main idea \n",
    "\n",
    "- Represent each cluster by its cluster center and assign a cluster membership to each data point. \n",
    "\n",
    "**Chicken-and-egg problem!**\n",
    "\n",
    "- If we knew cluster centers, we can simply assign each point to its nearest center.\n",
    "- Similarly, if we knew assignments, we can calculate cluster centers.  \n",
    "- But we do not know either 😟. \n",
    "\n",
    "A usual computer science answer to such problems is iterations!! "
   ]
  },
  {
   "cell_type": "markdown",
   "metadata": {
    "slideshow": {
     "slide_type": "slide"
    }
   },
   "source": [
    "### K-Means clustering algorithm\n",
    "\n",
    "**Input**: Data points X and the number of clusters K\n",
    "\n",
    "**Initialization**: K initial centers for the clusters\n",
    "\n",
    "**Iterative process**:\n",
    "\n",
    "repeat \n",
    "- Assign each example to the closest center.\n",
    "- Estimate new centers as _average_ of observations in a cluster.\n",
    "\n",
    "until **centers stop changing** or **maximum iterations have reached**."
   ]
  },
  {
   "cell_type": "markdown",
   "metadata": {
    "slideshow": {
     "slide_type": "slide"
    }
   },
   "source": [
    "Let's execute K-Means algorithm on our toy example. \n",
    "\n",
    "**Input**\n",
    "- The data points `X`"
   ]
  },
  {
   "cell_type": "code",
   "execution_count": null,
   "metadata": {},
   "outputs": [],
   "source": [
    "n_examples = toy_df.shape[0]\n",
    "print(\"Number of examples: \", n_examples)\n",
    "X"
   ]
  },
  {
   "cell_type": "markdown",
   "metadata": {},
   "source": [
    "- Let K (number of clusters) be 3. "
   ]
  },
  {
   "cell_type": "code",
   "execution_count": null,
   "metadata": {},
   "outputs": [],
   "source": [
    "k = 3"
   ]
  },
  {
   "cell_type": "markdown",
   "metadata": {
    "slideshow": {
     "slide_type": "slide"
    }
   },
   "source": [
    "### Initialization \n",
    "\n",
    "- Random initialization for K initial centers of the clusters. "
   ]
  },
  {
   "cell_type": "code",
   "execution_count": null,
   "metadata": {},
   "outputs": [],
   "source": [
    "np.random.seed(seed=14)\n",
    "centers_idx = np.random.choice(range(0, n_examples), size=k)\n",
    "centers_df = toy_df.iloc[centers_idx]\n",
    "centers = X[centers_idx]\n",
    "colours = [\"black\", \"blue\", \"red\"]"
   ]
  },
  {
   "cell_type": "code",
   "execution_count": null,
   "metadata": {},
   "outputs": [],
   "source": [
    "plt.scatter(X[:, 0], X[:, 1], marker=\"o\")\n",
    "plt.scatter(centers[:, 0], centers[:, 1], c=colours, marker=\"*\", s=200)\n",
    "plt.title(\"Initial centers\");"
   ]
  },
  {
   "cell_type": "markdown",
   "metadata": {
    "slideshow": {
     "slide_type": "slide"
    }
   },
   "source": [
    "### Iterative process\n",
    "\n",
    "repeat \n",
    "\n",
    "- Assign each example to the closest center. (`update_Z`)\n",
    "- Estimate new centers as _average_ of observations in a cluster. (`update_centers`)\n",
    "\n",
    "until **centers stop changing** or **maximum iterations have reached**."
   ]
  },
  {
   "cell_type": "markdown",
   "metadata": {
    "slideshow": {
     "slide_type": "slide"
    }
   },
   "source": [
    "### How to find closest centers? \n",
    "\n",
    "- First step in the iterative process is assigning examples to the closest center. \n",
    "- Let's consider distance of an example to all centers and assign that example to the closest center.  "
   ]
  },
  {
   "cell_type": "code",
   "execution_count": null,
   "metadata": {
    "slideshow": {
     "slide_type": "-"
    }
   },
   "outputs": [],
   "source": [
    "plot_example_dist(toy_df, centers_df, 6, 4)"
   ]
  },
  {
   "cell_type": "markdown",
   "metadata": {
    "slideshow": {
     "slide_type": "slide"
    }
   },
   "source": [
    "### How to find closest centers?\n",
    "\n",
    "- Similarly, we can make cluster assignments for all points by calculating distances of all examples to the centers and assigning it to the cluster with smallest distance.  "
   ]
  },
  {
   "cell_type": "code",
   "execution_count": null,
   "metadata": {},
   "outputs": [],
   "source": [
    "from sklearn.metrics import euclidean_distances\n",
    "\n",
    "\n",
    "def update_Z(X, centers):\n",
    "    \"\"\"\n",
    "    returns distances and updated cluster assignments\n",
    "    \"\"\"\n",
    "    dist = euclidean_distances(X, centers)\n",
    "    return dist, np.argmin(dist, axis=1)"
   ]
  },
  {
   "cell_type": "markdown",
   "metadata": {
    "slideshow": {
     "slide_type": "slide"
    }
   },
   "source": [
    "### How to update centers?   \n",
    "\n",
    "- With the new cluster assignments for our data points, we update cluster centers. \n",
    "- New cluster centers are means of data points in each cluster. "
   ]
  },
  {
   "cell_type": "code",
   "execution_count": null,
   "metadata": {},
   "outputs": [],
   "source": [
    "def update_centers(X, Z, old_centers, k):\n",
    "    \"\"\"\n",
    "    returns new centers\n",
    "    \"\"\"\n",
    "    new_centers = old_centers.copy()\n",
    "    for kk in range(k):\n",
    "        new_centers[kk] = np.mean(X[Z == kk], axis=0)\n",
    "    return new_centers"
   ]
  },
  {
   "cell_type": "markdown",
   "metadata": {
    "slideshow": {
     "slide_type": "slide"
    }
   },
   "source": [
    "### Iteration 1: Step 1 "
   ]
  },
  {
   "cell_type": "markdown",
   "metadata": {},
   "source": [
    "- Assign each example to the closest cluster center."
   ]
  },
  {
   "cell_type": "code",
   "execution_count": null,
   "metadata": {},
   "outputs": [],
   "source": [
    "dist, Z = update_Z(X, centers)\n",
    "Z"
   ]
  },
  {
   "cell_type": "markdown",
   "metadata": {},
   "source": [
    "- This is the current cluster assignment. "
   ]
  },
  {
   "cell_type": "code",
   "execution_count": null,
   "metadata": {},
   "outputs": [],
   "source": [
    "plot_current_assinment(X, Z, centers)"
   ]
  },
  {
   "cell_type": "markdown",
   "metadata": {
    "slideshow": {
     "slide_type": "slide"
    }
   },
   "source": [
    "### Iteration 1: Step 2 \n",
    "- Estimate new centers as _average_ of observations in a cluster."
   ]
  },
  {
   "cell_type": "code",
   "execution_count": null,
   "metadata": {},
   "outputs": [],
   "source": [
    "new_centers_it1 = update_centers(X, Z, centers, k)"
   ]
  },
  {
   "cell_type": "markdown",
   "metadata": {},
   "source": [
    "- This is how the centers moved in this iteration. "
   ]
  },
  {
   "cell_type": "code",
   "execution_count": null,
   "metadata": {},
   "outputs": [],
   "source": [
    "plot_update_centroid(toy_df, 6, 4, new_centers_it1, centers, dist)"
   ]
  },
  {
   "cell_type": "markdown",
   "metadata": {
    "slideshow": {
     "slide_type": "slide"
    }
   },
   "source": [
    "### Iteration 2: step 1"
   ]
  },
  {
   "cell_type": "markdown",
   "metadata": {},
   "source": [
    "- Assign each example to the closest cluster center."
   ]
  },
  {
   "cell_type": "code",
   "execution_count": null,
   "metadata": {},
   "outputs": [],
   "source": [
    "dist, Z = update_Z(X, new_centers_it1)\n",
    "Z"
   ]
  },
  {
   "cell_type": "markdown",
   "metadata": {},
   "source": [
    "- This is the current cluster assignment. "
   ]
  },
  {
   "cell_type": "code",
   "execution_count": null,
   "metadata": {},
   "outputs": [],
   "source": [
    "plot_current_assinment(X, Z, new_centers_it1)"
   ]
  },
  {
   "cell_type": "markdown",
   "metadata": {
    "slideshow": {
     "slide_type": "slide"
    }
   },
   "source": [
    "### Iteration 2: step 2\n",
    "\n",
    "- Estimate new centers as _average_ of observations in a cluster."
   ]
  },
  {
   "cell_type": "code",
   "execution_count": null,
   "metadata": {},
   "outputs": [],
   "source": [
    "new_centers_it2 = update_centers(X, Z, new_centers_it1, k)"
   ]
  },
  {
   "cell_type": "markdown",
   "metadata": {},
   "source": [
    "- This is how the centers moved in this iteration. "
   ]
  },
  {
   "cell_type": "code",
   "execution_count": null,
   "metadata": {},
   "outputs": [],
   "source": [
    "plot_update_centroid(toy_df, 6, 4, new_centers_it2, new_centers_it1, dist)"
   ]
  },
  {
   "cell_type": "markdown",
   "metadata": {
    "slideshow": {
     "slide_type": "slide"
    }
   },
   "source": [
    "### Iteration 3: step 1"
   ]
  },
  {
   "cell_type": "markdown",
   "metadata": {},
   "source": [
    "- Assign each example to the closest cluster center."
   ]
  },
  {
   "cell_type": "code",
   "execution_count": null,
   "metadata": {},
   "outputs": [],
   "source": [
    "dist, Z = update_Z(X, new_centers_it2)\n",
    "Z"
   ]
  },
  {
   "cell_type": "markdown",
   "metadata": {},
   "source": [
    "- This is the current cluster assignment. "
   ]
  },
  {
   "cell_type": "code",
   "execution_count": null,
   "metadata": {},
   "outputs": [],
   "source": [
    "plot_current_assinment(X, Z, new_centers_it2)"
   ]
  },
  {
   "cell_type": "markdown",
   "metadata": {
    "slideshow": {
     "slide_type": "slide"
    }
   },
   "source": [
    "### Iteration 3: step 2\n",
    "\n",
    "- Estimate new centers as _average_ of observations in a cluster."
   ]
  },
  {
   "cell_type": "code",
   "execution_count": null,
   "metadata": {},
   "outputs": [],
   "source": [
    "new_centers_it3 = update_centers(X, Z, new_centers_it2, k)"
   ]
  },
  {
   "cell_type": "markdown",
   "metadata": {},
   "source": [
    "- This is how the centers moved in this iteration. "
   ]
  },
  {
   "cell_type": "code",
   "execution_count": null,
   "metadata": {},
   "outputs": [],
   "source": [
    "plot_update_centroid(toy_df, 6, 4, new_centers_it3, new_centers_it2, dist)"
   ]
  },
  {
   "cell_type": "markdown",
   "metadata": {
    "slideshow": {
     "slide_type": "slide"
    }
   },
   "source": [
    "### Iteration 4: step 1"
   ]
  },
  {
   "cell_type": "markdown",
   "metadata": {},
   "source": [
    "- Assign each example to the closest cluster center."
   ]
  },
  {
   "cell_type": "code",
   "execution_count": null,
   "metadata": {},
   "outputs": [],
   "source": [
    "dist, Z = update_Z(X, new_centers_it3)\n",
    "Z"
   ]
  },
  {
   "cell_type": "markdown",
   "metadata": {},
   "source": [
    "- This is the current cluster assignment. "
   ]
  },
  {
   "cell_type": "code",
   "execution_count": null,
   "metadata": {},
   "outputs": [],
   "source": [
    "plot_current_assinment(X, Z, new_centers_it3)"
   ]
  },
  {
   "cell_type": "markdown",
   "metadata": {
    "slideshow": {
     "slide_type": "slide"
    }
   },
   "source": [
    "### Iteration 4: step 2\n",
    "\n",
    "- Estimate new centers as _average_ of observations in a cluster."
   ]
  },
  {
   "cell_type": "code",
   "execution_count": null,
   "metadata": {},
   "outputs": [],
   "source": [
    "new_centers_it4 = update_centers(X, Z, new_centers_it3, k)"
   ]
  },
  {
   "cell_type": "markdown",
   "metadata": {},
   "source": [
    "- The cluster centers are not moving anymore. "
   ]
  },
  {
   "cell_type": "code",
   "execution_count": null,
   "metadata": {},
   "outputs": [],
   "source": [
    "plot_update_centroid(toy_df, 6, 4, new_centers_it4, new_centers_it3, dist)"
   ]
  },
  {
   "cell_type": "markdown",
   "metadata": {
    "slideshow": {
     "slide_type": "slide"
    }
   },
   "source": [
    "### Iteration 5: step 1"
   ]
  },
  {
   "cell_type": "markdown",
   "metadata": {},
   "source": [
    "- Assign each example to the closest cluster center."
   ]
  },
  {
   "cell_type": "code",
   "execution_count": null,
   "metadata": {},
   "outputs": [],
   "source": [
    "dist, Z = update_Z(X, new_centers_it4)\n",
    "Z"
   ]
  },
  {
   "cell_type": "markdown",
   "metadata": {},
   "source": [
    "- This is the current cluster assignment."
   ]
  },
  {
   "cell_type": "code",
   "execution_count": null,
   "metadata": {},
   "outputs": [],
   "source": [
    "plot_current_assinment(X, Z, new_centers_it4)"
   ]
  },
  {
   "cell_type": "markdown",
   "metadata": {
    "slideshow": {
     "slide_type": "slide"
    }
   },
   "source": [
    "### Iteration 5: step 2\n",
    "\n",
    "- Estimate new centers as _average_ of observations in a cluster."
   ]
  },
  {
   "cell_type": "code",
   "execution_count": null,
   "metadata": {},
   "outputs": [],
   "source": [
    "new_centers_it5 = update_centers(X, Z, new_centers_it4, k)"
   ]
  },
  {
   "cell_type": "markdown",
   "metadata": {},
   "source": [
    "- The cluster centers are not moving anymore. "
   ]
  },
  {
   "cell_type": "code",
   "execution_count": null,
   "metadata": {},
   "outputs": [],
   "source": [
    "plot_update_centroid(toy_df, 6, 4, new_centers_it5, new_centers_it4, dist)"
   ]
  },
  {
   "cell_type": "markdown",
   "metadata": {
    "slideshow": {
     "slide_type": "slide"
    }
   },
   "source": [
    "### When to stop?\n",
    "\n",
    "- Seems like our centroids aren't changing anymore. \n",
    "- The algorithm has converged. So we stop! \n",
    "- K-Means always converges. It doesn't mean it finds the \"right\" clusters. It can converge to a sub-optimal solution.   "
   ]
  },
  {
   "cell_type": "code",
   "execution_count": null,
   "metadata": {
    "slideshow": {
     "slide_type": "slide"
    }
   },
   "outputs": [],
   "source": [
    "plot_iterative(toy_df, 6, 4, centers)"
   ]
  },
  {
   "cell_type": "markdown",
   "metadata": {},
   "source": [
    "Initialization is crucial. We'll talk about it in a bit. "
   ]
  },
  {
   "cell_type": "markdown",
   "metadata": {
    "slideshow": {
     "slide_type": "skip"
    }
   },
   "source": [
    "### Example 2\n",
    "- Let's use the K-means on the iris dataset. "
   ]
  },
  {
   "cell_type": "code",
   "execution_count": null,
   "metadata": {
    "slideshow": {
     "slide_type": "skip"
    }
   },
   "outputs": [],
   "source": [
    "## Iris dataset\n",
    "iris = datasets.load_iris()  # loading the iris dataset\n",
    "features = iris.data  # get the input data\n",
    "labels = iris.target_names[\n",
    "    iris.target\n",
    "]  # get the targets, in this case the types of the Iris flower\n",
    "\n",
    "iris_df = pd.DataFrame(features, columns=iris.feature_names)\n",
    "iris_df"
   ]
  },
  {
   "cell_type": "code",
   "execution_count": null,
   "metadata": {
    "slideshow": {
     "slide_type": "skip"
    }
   },
   "outputs": [],
   "source": [
    "np.unique(labels)"
   ]
  },
  {
   "cell_type": "code",
   "execution_count": null,
   "metadata": {
    "slideshow": {
     "slide_type": "skip"
    }
   },
   "outputs": [],
   "source": [
    "# Reducing the dimensionality for plotting purposes\n",
    "# (We're going to learn more about it later in the course)\n",
    "pca = PCA(n_components=2)\n",
    "pca.fit(features)\n",
    "data_iris = pd.DataFrame(pca.transform(features), columns=[\"$Z_1$\", \"$Z_2$\"])\n",
    "data_iris[\"target\"] = labels"
   ]
  },
  {
   "cell_type": "code",
   "execution_count": null,
   "metadata": {
    "slideshow": {
     "slide_type": "skip"
    }
   },
   "outputs": [],
   "source": [
    "plot_unsup(data_iris, 20, 10, \"Iris dataset\")"
   ]
  },
  {
   "cell_type": "markdown",
   "metadata": {
    "slideshow": {
     "slide_type": "skip"
    }
   },
   "source": [
    "#### Initialization\n",
    "\n",
    "- In this case, we know that $k=3$;\n",
    "- We are going to pick three points at random to use as initial centroids;"
   ]
  },
  {
   "cell_type": "code",
   "execution_count": null,
   "metadata": {
    "slideshow": {
     "slide_type": "skip"
    }
   },
   "outputs": [],
   "source": [
    "# RANDOM initialization\n",
    "k = 3\n",
    "centroids = np.random.choice(range(0, 150), size=k)\n",
    "centroids = data_iris.iloc[centroids, 0:2]\n",
    "plot_intial_center(data_iris, centroids, 22, 10, title=\"Iris dataset\")"
   ]
  },
  {
   "cell_type": "markdown",
   "metadata": {
    "slideshow": {
     "slide_type": "skip"
    }
   },
   "source": [
    "- Next, for each point in the dataset, we calculate the distance to each one of the centroids; \n",
    "\n",
    "\n",
    "- Let's do it for one point as example:"
   ]
  },
  {
   "cell_type": "code",
   "execution_count": null,
   "metadata": {
    "slideshow": {
     "slide_type": "skip"
    }
   },
   "outputs": [],
   "source": [
    "plot_example_dist(data_iris, centroids, 22, 10)"
   ]
  },
  {
   "cell_type": "code",
   "execution_count": null,
   "metadata": {
    "slideshow": {
     "slide_type": "skip"
    }
   },
   "outputs": [],
   "source": [
    "dist = distance.cdist(data_iris.iloc[:, 0:2], centroids.iloc[:, 0:2])\n",
    "plot_first_assignment(data_iris, centroids, dist, 22, 10)"
   ]
  },
  {
   "cell_type": "code",
   "execution_count": null,
   "metadata": {
    "slideshow": {
     "slide_type": "skip"
    }
   },
   "outputs": [],
   "source": [
    "plot_iterative(data_iris, 22, 10, centroids.to_numpy())"
   ]
  },
  {
   "cell_type": "markdown",
   "metadata": {
    "slideshow": {
     "slide_type": "skip"
    }
   },
   "source": [
    "### (Optional) Feature engineering using K-Means \n",
    "\n",
    "- K-Means could be used for feature engineering in supervised learning. \n",
    "- Examples: \n",
    "    - You could add a categorical feature: cluster membership\n",
    "    - You could add a continuous features: distance from each cluster center\n",
    "- See [this paper](http://ai.stanford.edu/~acoates/papers/coatesleeng_aistats_2011.pdf)."
   ]
  },
  {
   "cell_type": "markdown",
   "metadata": {
    "slideshow": {
     "slide_type": "slide"
    }
   },
   "source": [
    "<br><br><br><br>"
   ]
  },
  {
   "cell_type": "markdown",
   "metadata": {
    "slideshow": {
     "slide_type": "slide"
    }
   },
   "source": [
    "## Choosing K <a name=\"3\"></a>"
   ]
  },
  {
   "cell_type": "markdown",
   "metadata": {
    "slideshow": {
     "slide_type": "slide"
    }
   },
   "source": [
    "### Hyperparameter tuning for K\n",
    "\n",
    "- K-Means takes K (`n_clusters` in `sklearn`) as a hyperparameter. How do we pick K? \n",
    "\n",
    "- In supervised setting we carried out hyperparameter optimization based on cross-validation scores. \n",
    "\n",
    "- Since in unsupervised learning we do not have the target values, it becomes difficult to objectively measure the effectiveness of the algorithms.\n",
    "\n",
    "- There is no definitive approach.\n",
    "\n",
    "- However, some strategies might be useful to help you determine K. "
   ]
  },
  {
   "cell_type": "markdown",
   "metadata": {
    "slideshow": {
     "slide_type": "slide"
    }
   },
   "source": [
    "### Method 1: The Elbow method\n",
    "\n",
    "- This method looks at the sum of **intra-cluster distances**, which is also referred to as **inertia**. \n",
    "- The intra-cluster distance in our toy example above is given as   \n",
    "\n",
    "$$ \\sum_{P_i \\in C_1}  distance(P_i, C_1)^2 + \\sum_{P_i \\in C_2}  distance(P_i, C_2)^2 + \\sum_{P_i \\in C_3} distance(P_i, C_3)^2$$\n",
    "\n",
    "Where \n",
    "- $C_1, C_2, C_3$ are centroids \n",
    "- $P_i$s are points within that cluster\n",
    "- $distance$ is the usual Euclidean distance. "
   ]
  },
  {
   "cell_type": "markdown",
   "metadata": {
    "slideshow": {
     "slide_type": "slide"
    }
   },
   "source": [
    "### Inertia \n",
    "\n",
    "You can access this intra-cluster distance or inertia as follows. "
   ]
  },
  {
   "cell_type": "code",
   "execution_count": null,
   "metadata": {},
   "outputs": [],
   "source": [
    "X, y = make_blobs(centers=3, n_features=2, random_state=10)\n",
    "mglearn.discrete_scatter(X[:, 0], X[:, 1], markers=\"o\");"
   ]
  },
  {
   "cell_type": "code",
   "execution_count": null,
   "metadata": {
    "slideshow": {
     "slide_type": "-"
    }
   },
   "outputs": [],
   "source": [
    "d = {\"K\": [], \"inertia\": []}\n",
    "for k in range(1, 100, 10):\n",
    "    model = KMeans(n_clusters=k).fit(X)\n",
    "    d[\"K\"].append(k)\n",
    "    d[\"inertia\"].append(model.inertia_)"
   ]
  },
  {
   "cell_type": "code",
   "execution_count": null,
   "metadata": {
    "slideshow": {
     "slide_type": "slide"
    }
   },
   "outputs": [],
   "source": [
    "pd.DataFrame(d)"
   ]
  },
  {
   "cell_type": "markdown",
   "metadata": {
    "slideshow": {
     "slide_type": "-"
    }
   },
   "source": [
    "- The inertia decreases as K increases. \n",
    "- Question: Do we want inertia to be small or large? \n",
    "- The problem is that we can't just look for a $k$ that minimizes inertia because it decreases as $k$ increases.\n",
    "    - If I have number of clusters = number of examples, each example will have its own cluster and the intra-cluster distance will be 0.  \n",
    "- Instead we evaluate the trade-off: \"small k\" vs \"small intra-cluster distances\". "
   ]
  },
  {
   "cell_type": "code",
   "execution_count": null,
   "metadata": {
    "slideshow": {
     "slide_type": "slide"
    }
   },
   "outputs": [],
   "source": [
    "def plot_elbow(w, h, inertia_values):\n",
    "    plt.figure(figsize=(w, h))\n",
    "    plt.axvline(x=3, linestyle=\"-.\", c=\"black\")\n",
    "    plt.plot(range(1, 10), inertia_values, \"-o\")\n",
    "    ax = plt.gca()\n",
    "    ax.tick_params(\"both\", labelsize=(w + h) / 2)\n",
    "    ax.set_xlabel(\"K\", fontsize=w)\n",
    "    ax.set_ylabel(\"Inertia\", fontsize=w)"
   ]
  },
  {
   "cell_type": "code",
   "execution_count": null,
   "metadata": {
    "slideshow": {
     "slide_type": "slide"
    }
   },
   "outputs": [],
   "source": [
    "inertia_values = list()\n",
    "for k in range(1, 10):\n",
    "    inertia_values.append(KMeans(n_clusters=k).fit(toy_df).inertia_)\n",
    "plot_elbow(8, 6, inertia_values)"
   ]
  },
  {
   "cell_type": "markdown",
   "metadata": {
    "slideshow": {
     "slide_type": "-"
    }
   },
   "source": [
    "- From the above plot, we could argue that three clusters (the point of inflection on the curve) are enough.\n",
    "- The inertia decreases when clusters are greater than 3. However it's not a big improvement and so we prefer K=3. \n",
    "- In this toy example, it's the plot is kind of clear and easy to interpret but it can be hard to interpret in real life examples. "
   ]
  },
  {
   "cell_type": "markdown",
   "metadata": {
    "slideshow": {
     "slide_type": "slide"
    }
   },
   "source": [
    "There is a package called [`yellowbrick`](https://www.scikit-yb.org/en/latest/api/cluster/elbow.html) which can be used to create these plots conveniently. \n",
    "\n",
    "```\n",
    "conda install -c districtdatalabs yellowbrick\n",
    "```"
   ]
  },
  {
   "cell_type": "code",
   "execution_count": null,
   "metadata": {},
   "outputs": [],
   "source": [
    "from yellowbrick.cluster import KElbowVisualizer\n",
    "\n",
    "model = KMeans()\n",
    "visualizer = KElbowVisualizer(model, k=(1, 10))\n",
    "\n",
    "visualizer.fit(X)  # Fit the data to the visualizer\n",
    "visualizer.show();"
   ]
  },
  {
   "cell_type": "code",
   "execution_count": null,
   "metadata": {},
   "outputs": [],
   "source": [
    "visualizer = KElbowVisualizer(model, k=(1, 10))\n",
    "\n",
    "visualizer.fit(X)  # Fit the data to the visualizer\n",
    "visualizer.finalize();"
   ]
  },
  {
   "cell_type": "code",
   "execution_count": null,
   "metadata": {},
   "outputs": [],
   "source": [
    "visualizer.draw()"
   ]
  },
  {
   "cell_type": "markdown",
   "metadata": {
    "slideshow": {
     "slide_type": "slide"
    }
   },
   "source": [
    "### Method 2: The Silhouette method\n",
    "\n",
    "- Not dependent on the notion of cluster centers. \n",
    "- Calculated using the **mean intra-cluster distance** ($a$) and the **mean nearest-cluster distance** ($b$) for each sample."
   ]
  },
  {
   "cell_type": "markdown",
   "metadata": {
    "slideshow": {
     "slide_type": "slide"
    }
   },
   "source": [
    "### Mean intra-cluster distance ($a$)\n",
    "\n",
    "- Suppose the green point below is our sample. \n",
    "- Average of the distances of the green point to the other points in the same cluster.\n",
    "  - These distances are represented by the black lines. \n",
    "  "
   ]
  },
  {
   "cell_type": "code",
   "execution_count": null,
   "metadata": {},
   "outputs": [],
   "source": [
    "plot_silhouette_dist(6, 4)"
   ]
  },
  {
   "cell_type": "markdown",
   "metadata": {
    "slideshow": {
     "slide_type": "slide"
    }
   },
   "source": [
    "### Mean nearest-cluster distance ($b$)\n",
    "\n",
    "- Average of the distances of the green point to the blue points is smaller than the average of the distances of the green point to the red points. So the **nearest cluster** is the blue cluster. \n",
    "- So the mean nearest-cluster distance is the average of the distances of the green point to the blue points.  "
   ]
  },
  {
   "cell_type": "code",
   "execution_count": null,
   "metadata": {
    "slideshow": {
     "slide_type": "-"
    }
   },
   "outputs": [],
   "source": [
    "plot_silhouette_dist(6, 4)"
   ]
  },
  {
   "cell_type": "markdown",
   "metadata": {
    "slideshow": {
     "slide_type": "slide"
    }
   },
   "source": [
    "### Silhouette distance for a sample \n",
    "\n",
    "- the difference between the **the average nearest-cluster distance** ($b$) and **average intra-cluster distance** ($a$) for each sample, normalized by the maximum value\n",
    "\n",
    "$$\\frac{b-a}{max(a,b)}$$\n",
    "\n",
    "- The best value is 1. \n",
    "- The worst value is -1 (samples have been assigned to wrong clusters).\n",
    "- Value near 0 means overlapping clusters. \n",
    "\n",
    "The overall **Silhouette score** is the average of the Silhouette scores for all samples. "
   ]
  },
  {
   "cell_type": "markdown",
   "metadata": {
    "slideshow": {
     "slide_type": "slide"
    }
   },
   "source": [
    "### Using Silhouette scores to select the number of clusters\n",
    "\n",
    "- The plots below show the Silhouette scores for each sample in that cluster. \n",
    "- Higher values indicate well-separated clusters. \n",
    "- The size of the Silhouette shows the number of samples and hence shows imbalance of data points in clusters.  "
   ]
  },
  {
   "cell_type": "code",
   "execution_count": null,
   "metadata": {},
   "outputs": [],
   "source": [
    "from yellowbrick.cluster import SilhouetteVisualizer"
   ]
  },
  {
   "cell_type": "code",
   "execution_count": null,
   "metadata": {},
   "outputs": [],
   "source": [
    "model = KMeans(2, random_state=42)\n",
    "visualizer = SilhouetteVisualizer(model, colors=\"yellowbrick\")\n",
    "visualizer.fit(X)  # Fit the data to the visualizer\n",
    "visualizer.show()\n",
    "# Finalize and render the figure"
   ]
  },
  {
   "cell_type": "code",
   "execution_count": null,
   "metadata": {
    "slideshow": {
     "slide_type": "slide"
    }
   },
   "outputs": [],
   "source": [
    "model = KMeans(3, random_state=42)\n",
    "visualizer = SilhouetteVisualizer(model, colors=\"yellowbrick\")\n",
    "visualizer.fit(X)  # Fit the data to the visualizer\n",
    "visualizer.show()\n",
    "# Finalize and render the figure"
   ]
  },
  {
   "cell_type": "code",
   "execution_count": null,
   "metadata": {
    "slideshow": {
     "slide_type": "-"
    }
   },
   "outputs": [],
   "source": [
    "model = KMeans(5, random_state=42)\n",
    "visualizer = SilhouetteVisualizer(model, colors=\"yellowbrick\")\n",
    "visualizer.fit(X)  # Fit the data to the visualizer\n",
    "visualizer.show()\n",
    "# Finalize and render the figure"
   ]
  },
  {
   "cell_type": "markdown",
   "metadata": {
    "slideshow": {
     "slide_type": "slide"
    }
   },
   "source": [
    "### What to look for in these plots?\n",
    "\n",
    "- Unlike inertia, larger values are better because they indicate that the point is further away from neighbouring clusters.\n",
    "- The thickness of each silhouette indicates the cluster size.\n",
    "- The shape of each silhouette indicates the \"goodness\" for points in each cluster.\n",
    "- The length (or area) of each silhouette indicates the goodness of each cluster.\n",
    "- A slower dropoff (more rectangular) indicates more points are \"happy\" in their cluster."
   ]
  },
  {
   "cell_type": "code",
   "execution_count": null,
   "metadata": {
    "slideshow": {
     "slide_type": "-"
    }
   },
   "outputs": [],
   "source": [
    "model = KMeans(3, random_state=42)\n",
    "visualizer = SilhouetteVisualizer(model, colors=\"yellowbrick\")\n",
    "visualizer.fit(X)  # Fit the data to the visualizer\n",
    "visualizer.show()\n",
    "# Finalize and render the figure"
   ]
  },
  {
   "cell_type": "markdown",
   "metadata": {
    "slideshow": {
     "slide_type": "slide"
    }
   },
   "source": [
    "### Comments on Silhouette scores \n",
    "- Unlike inertia, larger values are better because they indicate that the point is further away from neighbouring clusters.\n",
    "- Unlike inertia, the overall silhouette score gets worse as you add more clusters because you end up being closer to neighbouring clusters.\n",
    "- Thus, as with intertia, you will not see a \"peak\" value of this metric that indicates the best number of clusters.\n",
    "- We can visualize the silhouette score for each example individually in a silhouette plot (hence the name), see below.\n",
    "- We can apply Silhouette method to clustering methods other than K-Means. \n"
   ]
  },
  {
   "cell_type": "markdown",
   "metadata": {
    "slideshow": {
     "slide_type": "slide"
    }
   },
   "source": [
    "### K-Means: True/False questions\n",
    "\n",
    "- The preprocessing methods such as scaling and imputation are unsupervised methods. \n",
    "- K-Means algorithm always converges to the same solution.\n",
    "- $K$ in K-Means should always be $\\leq$ # of features.\n",
    "- In K-Means, it makes sense to have $K$ $\\leq$ # of examples. \n",
    "\n",
    "<br><br><br><br>"
   ]
  },
  {
   "cell_type": "markdown",
   "metadata": {
    "slideshow": {
     "slide_type": "slide"
    }
   },
   "source": [
    "### K-Means: True/False questions \n",
    "\n",
    "- In some iterations some points may be left unassigned. \n",
    "- K-Means is sensitive to initialization and the solution may change depending upon the initialization. \n",
    "- K-means terminates when the number of clusters does not increase between iterations.\n",
    "- K-means terminates when the centroid locations do not change between iterations. \n",
    "\n",
    "<br><br><br><br>"
   ]
  },
  {
   "cell_type": "markdown",
   "metadata": {
    "slideshow": {
     "slide_type": "slide"
    }
   },
   "source": [
    "## Break (5 min)\n",
    "\n",
    "![](img/eva-coffee.png)"
   ]
  },
  {
   "cell_type": "markdown",
   "metadata": {
    "slideshow": {
     "slide_type": "skip"
    }
   },
   "source": [
    "<br><br><br><br>"
   ]
  },
  {
   "cell_type": "markdown",
   "metadata": {
    "slideshow": {
     "slide_type": "slide"
    }
   },
   "source": [
    "## K-Means case study: Customer segmentation"
   ]
  },
  {
   "cell_type": "markdown",
   "metadata": {
    "slideshow": {
     "slide_type": "slide"
    }
   },
   "source": [
    "### What is customer segmentation? \n",
    "\n",
    "Check out [this interesting talk by Malcom Gladwell](https://www.ted.com/talks/malcolm_gladwell_on_spaghetti_sauce?language=en). Humans are diverse and there is no single spaghetti sauce that would make all of them happy! "
   ]
  },
  {
   "cell_type": "markdown",
   "metadata": {
    "slideshow": {
     "slide_type": "slide"
    }
   },
   "source": [
    "Often it's beneficial to businesses to explore the landscape of the market and tailor their services and products offered to each group. This is called **customer segmentation**. It's usually applied when the dataset contains some of the following features. \n",
    "\n",
    "- **Demographic information** such as gender, age, marital status, income, education, and occupation\n",
    "- **Geographical information** such as specific towns or counties or a customer's city, state, or even country of residence (in case of big global companies)\n",
    "- **Psychographics** such as social class, lifestyle, and personality traits\n",
    "- **Behavioral data** such as spending and consumption habits, product/service usage, and desired benefits "
   ]
  },
  {
   "cell_type": "markdown",
   "metadata": {
    "slideshow": {
     "slide_type": "slide"
    }
   },
   "source": [
    "### Business problem \n",
    "\n",
    "- Imagine that you are hired as a data scientist at a bank. They provide some data of their credit card customers to you. \n",
    "- Their goal is to develop customized marketing campaigns and they ask you to group customers based on the given information. \n",
    "- Now that you know about K-Means clustering, let's apply it to the dataset to group customers. "
   ]
  },
  {
   "cell_type": "markdown",
   "metadata": {
    "slideshow": {
     "slide_type": "slide"
    }
   },
   "source": [
    "### Data\n",
    "\n",
    "- We will use the [Credit Card Dataset for clustering](https://www.kaggle.com/arjunbhasin2013/ccdata) from Kaggle.\n",
    "- Download the data and save the CSV under the `data` folder. \n",
    "- I encourage you to work through this case study on your own. "
   ]
  },
  {
   "cell_type": "code",
   "execution_count": null,
   "metadata": {
    "slideshow": {
     "slide_type": "-"
    }
   },
   "outputs": [],
   "source": [
    "creditcard_df = pd.read_csv(\"data/CC General.csv\")\n",
    "creditcard_df.shape"
   ]
  },
  {
   "cell_type": "markdown",
   "metadata": {
    "slideshow": {
     "slide_type": "slide"
    }
   },
   "source": [
    "### Information of the dataset \n",
    "\n",
    "We have behavioral data. \n",
    "\n",
    "- CUSTID: Identification of Credit Card holder\n",
    "- BALANCE: Balance amount left in customer's account to make purchases\n",
    "- BALANCE_FREQUENCY: How frequently the Balance is updated, score between 0 and 1 (1 = frequently updated, 0 = not frequently updated)\n",
    "- PURCHASES: Amount of purchases made from account\n",
    "- ONEOFFPURCHASES: Maximum purchase amount done in one-go\n",
    "- INSTALLMENTS_PURCHASES: Amount of purchase done in installment\n",
    "- CASH_ADVANCE: Cash in advance given by the user\n",
    "- PURCHASES_FREQUENCY: How frequently the Purchases are being made, score between 0 and 1 (1 = frequently purchased, 0 = not frequently purchased)\n",
    "- ONEOFF_PURCHASES_FREQUENCY: How frequently Purchases are happening in one-go (1 = frequently purchased, 0 = not frequently purchased)\n",
    "- PURCHASES_INSTALLMENTS_FREQUENCY: How frequently purchases in installments are being done (1 = frequently done, 0 = not frequently done)\n",
    "- CASH_ADVANCE_FREQUENCY: How frequently the cash in advance being paid\n",
    "- CASH_ADVANCE_TRX: Number of Transactions made with \"Cash in Advance\"\n",
    "- PURCHASES_TRX: Number of purchase transactions made\n",
    "- CREDIT_LIMIT: Limit of Credit Card for user\n",
    "- PAYMENTS: Amount of Payment done by user\n",
    "- MINIMUM_PAYMENTS: Minimum amount of payments made by user\n",
    "- PRC_FULL_PAYMENT: Percent of full payment paid by user\n",
    "- TENURE: Tenure of credit card service for user"
   ]
  },
  {
   "cell_type": "markdown",
   "metadata": {
    "slideshow": {
     "slide_type": "slide"
    }
   },
   "source": [
    "### Preliminary EDA"
   ]
  },
  {
   "cell_type": "code",
   "execution_count": null,
   "metadata": {},
   "outputs": [],
   "source": [
    "creditcard_df.info()"
   ]
  },
  {
   "cell_type": "markdown",
   "metadata": {},
   "source": [
    "- All numeric features\n",
    "- Some missing values"
   ]
  },
  {
   "cell_type": "code",
   "execution_count": null,
   "metadata": {
    "slideshow": {
     "slide_type": "slide"
    }
   },
   "outputs": [],
   "source": [
    "creditcard_df.describe()"
   ]
  },
  {
   "cell_type": "markdown",
   "metadata": {
    "slideshow": {
     "slide_type": "slide"
    }
   },
   "source": [
    "### Practice exercises for you\n",
    "\n",
    "1. What is the average `BALANCE` amount?\n",
    "2. How often the `BALANCE_FREQUENCY` is updated on average? \n",
    "3. Obtain the row the customer who made the maximum cash advance transaction. "
   ]
  },
  {
   "cell_type": "markdown",
   "metadata": {
    "slideshow": {
     "slide_type": "skip"
    }
   },
   "source": [
    "<br><br><br><br>"
   ]
  },
  {
   "cell_type": "markdown",
   "metadata": {
    "slideshow": {
     "slide_type": "slide"
    }
   },
   "source": [
    "### Mini exercises for you (Answers)\n",
    "\n",
    "1. What is the average `BALANCE` amount? 1564.47\n",
    "2. How often the `BALANCE_FREQUENCY` is updated on average? 0.88 (pretty often) \n",
    "3. Obtain the row of the customer who made the maximum cash advance transaction. "
   ]
  },
  {
   "cell_type": "code",
   "execution_count": null,
   "metadata": {},
   "outputs": [],
   "source": [
    "max_cash_advance = creditcard_df[\"CASH_ADVANCE\"].max()\n",
    "creditcard_df[creditcard_df[\"CASH_ADVANCE\"] == max_cash_advance]"
   ]
  },
  {
   "cell_type": "markdown",
   "metadata": {
    "slideshow": {
     "slide_type": "slide"
    }
   },
   "source": [
    "Let's examine correlations between features. "
   ]
  },
  {
   "cell_type": "code",
   "execution_count": null,
   "metadata": {},
   "outputs": [],
   "source": [
    "cor = creditcard_df.corr()\n",
    "plt.figure(figsize=(20, 10))\n",
    "sns.set(font_scale=1)\n",
    "sns.heatmap(cor, annot=True, cmap=plt.cm.Blues);"
   ]
  },
  {
   "cell_type": "markdown",
   "metadata": {
    "slideshow": {
     "slide_type": "slide"
    }
   },
   "source": [
    "### Feature types and preprocessing \n",
    "\n",
    "Let's identify different feature types and transformations "
   ]
  },
  {
   "cell_type": "code",
   "execution_count": null,
   "metadata": {},
   "outputs": [],
   "source": [
    "creditcard_df.columns"
   ]
  },
  {
   "cell_type": "code",
   "execution_count": null,
   "metadata": {},
   "outputs": [],
   "source": [
    "drop_features = [\"CUST_ID\"]\n",
    "numeric_features = list(set(creditcard_df.columns) - set(drop_features))"
   ]
  },
  {
   "cell_type": "code",
   "execution_count": null,
   "metadata": {},
   "outputs": [],
   "source": [
    "from sklearn.impute import SimpleImputer\n",
    "\n",
    "numeric_transformer = make_pipeline(SimpleImputer(), StandardScaler())\n",
    "\n",
    "preprocessor = make_column_transformer(\n",
    "    (numeric_transformer, numeric_features), (\"drop\", drop_features)\n",
    ")"
   ]
  },
  {
   "cell_type": "code",
   "execution_count": null,
   "metadata": {
    "slideshow": {
     "slide_type": "slide"
    }
   },
   "outputs": [],
   "source": [
    "transformed_df = pd.DataFrame(\n",
    "    data=preprocessor.fit_transform(creditcard_df), columns=numeric_features\n",
    ")"
   ]
  },
  {
   "cell_type": "code",
   "execution_count": null,
   "metadata": {},
   "outputs": [],
   "source": [
    "transformed_df"
   ]
  },
  {
   "cell_type": "markdown",
   "metadata": {},
   "source": [
    "Now that we have transformed the data, we are ready to run K-Means to cluster credit card customers. "
   ]
  },
  {
   "cell_type": "markdown",
   "metadata": {
    "slideshow": {
     "slide_type": "slide"
    }
   },
   "source": [
    "### Tuning the hyperparameter `n_clusters`\n",
    "\n",
    "- Let's first obtain optimal number of clusters using the Elbow method. "
   ]
  },
  {
   "cell_type": "code",
   "execution_count": null,
   "metadata": {},
   "outputs": [],
   "source": [
    "model = KMeans()\n",
    "visualizer = KElbowVisualizer(model, k=(1, 20))\n",
    "\n",
    "visualizer.fit(transformed_df)  # Fit the data to the visualizer\n",
    "visualizer.show();"
   ]
  },
  {
   "cell_type": "markdown",
   "metadata": {},
   "source": [
    "- The optimal number of clusters is not as clear as it was in our toy example. "
   ]
  },
  {
   "cell_type": "markdown",
   "metadata": {
    "slideshow": {
     "slide_type": "slide"
    }
   },
   "source": [
    "- Let's examine Silhouette scores.  "
   ]
  },
  {
   "cell_type": "code",
   "execution_count": null,
   "metadata": {},
   "outputs": [],
   "source": [
    "model = KMeans(4, random_state=42)\n",
    "visualizer = SilhouetteVisualizer(model, colors=\"yellowbrick\")\n",
    "visualizer.fit(transformed_df)  # Fit the data to the visualizer\n",
    "visualizer.show()\n",
    "# Finalize and render the figure"
   ]
  },
  {
   "cell_type": "code",
   "execution_count": null,
   "metadata": {
    "slideshow": {
     "slide_type": "slide"
    }
   },
   "outputs": [],
   "source": [
    "model = KMeans(5, random_state=42)\n",
    "visualizer = SilhouetteVisualizer(model, colors=\"yellowbrick\")\n",
    "visualizer.fit(transformed_df)  # Fit the data to the visualizer\n",
    "visualizer.show()\n",
    "# Finalize and render the figure"
   ]
  },
  {
   "cell_type": "code",
   "execution_count": null,
   "metadata": {
    "slideshow": {
     "slide_type": "slide"
    }
   },
   "outputs": [],
   "source": [
    "model = KMeans(6, random_state=42)\n",
    "visualizer = SilhouetteVisualizer(model, colors=\"yellowbrick\")\n",
    "visualizer.fit(transformed_df)  # Fit the data to the visualizer\n",
    "visualizer.show()\n",
    "# Finalize and render the figure"
   ]
  },
  {
   "cell_type": "markdown",
   "metadata": {
    "slideshow": {
     "slide_type": "slide"
    }
   },
   "source": [
    "- I'm going to run `KMeans` with `n_clusters = 4`. \n",
    "- You can try out `n_clusters = 5` and `n_clusters = 6` on your own. "
   ]
  },
  {
   "cell_type": "code",
   "execution_count": null,
   "metadata": {},
   "outputs": [],
   "source": [
    "kmeans = KMeans(4, random_state=123)\n",
    "kmeans.fit(transformed_df)\n",
    "labels = kmeans.labels_\n",
    "kmeans.cluster_centers_.shape"
   ]
  },
  {
   "cell_type": "markdown",
   "metadata": {
    "slideshow": {
     "slide_type": "slide"
    }
   },
   "source": [
    "- Let's visualize the clusters in two dimensions using PCA, which is a popular dimensionality reduction technique.  \n",
    "- We won't be talking about PCA in this course but I'll be using it for visualization. "
   ]
  },
  {
   "cell_type": "code",
   "execution_count": null,
   "metadata": {
    "slideshow": {
     "slide_type": "slide"
    }
   },
   "outputs": [],
   "source": [
    "# Obtain the principal components\n",
    "from sklearn.decomposition import PCA\n",
    "\n",
    "\n",
    "def plot_pca_clusters(data, labels):\n",
    "    \"\"\"\n",
    "    Carries out dimensionality reduction on the data for visualization\n",
    "    \"\"\"\n",
    "    pca = PCA(n_components=2)\n",
    "    principal_comp = pca.fit_transform(data)\n",
    "    pca_df = pd.DataFrame(\n",
    "        data=principal_comp, columns=[\"pca1\", \"pca2\"], index=data.index\n",
    "    )\n",
    "    pca_df[\"cluster\"] = labels\n",
    "    plt.figure(figsize=(6, 4))\n",
    "    ax = sns.scatterplot(\n",
    "        x=\"pca1\", y=\"pca2\", hue=\"cluster\", data=pca_df, palette=\"tab10\"\n",
    "    )\n",
    "    plt.show()"
   ]
  },
  {
   "cell_type": "code",
   "execution_count": null,
   "metadata": {
    "slideshow": {
     "slide_type": "slide"
    }
   },
   "outputs": [],
   "source": [
    "plot_pca_clusters(transformed_df, kmeans.labels_)"
   ]
  },
  {
   "cell_type": "markdown",
   "metadata": {},
   "source": [
    "- The clusters above look reasonably well separated. \n",
    "- This might not always be the case. "
   ]
  },
  {
   "cell_type": "markdown",
   "metadata": {
    "slideshow": {
     "slide_type": "slide"
    }
   },
   "source": [
    "### Cluster interpretation\n",
    "\n",
    "- Let's examine the cluster centers and identify types of customers.  "
   ]
  },
  {
   "cell_type": "code",
   "execution_count": null,
   "metadata": {},
   "outputs": [],
   "source": [
    "cluster_centers = pd.DataFrame(\n",
    "    data=kmeans.cluster_centers_, columns=[transformed_df.columns]\n",
    ")\n",
    "cluster_centers"
   ]
  },
  {
   "cell_type": "markdown",
   "metadata": {
    "slideshow": {
     "slide_type": "slide"
    }
   },
   "source": [
    "- Recall that we have applied imputation and scaling on the dataset. \n",
    "- But we would be able to interpret these clusters better if the centers are in the original scale. \n",
    "- So let's apply inverse transformations to get the cluster center values in the original scale. "
   ]
  },
  {
   "cell_type": "code",
   "execution_count": null,
   "metadata": {},
   "outputs": [],
   "source": [
    "data = (\n",
    "    preprocessor.named_transformers_[\"pipeline\"]\n",
    "    .named_steps[\"standardscaler\"]\n",
    "    .inverse_transform(cluster_centers[numeric_features])\n",
    ")"
   ]
  },
  {
   "cell_type": "code",
   "execution_count": null,
   "metadata": {
    "slideshow": {
     "slide_type": "slide"
    }
   },
   "outputs": [],
   "source": [
    "org_cluster_centers = pd.DataFrame(data=data, columns=numeric_features)\n",
    "org_cluster_centers = org_cluster_centers.reindex(\n",
    "    sorted(org_cluster_centers.columns), axis=1\n",
    ")\n",
    "org_cluster_centers"
   ]
  },
  {
   "cell_type": "code",
   "execution_count": null,
   "metadata": {
    "slideshow": {
     "slide_type": "slide"
    }
   },
   "outputs": [],
   "source": [
    "org_cluster_centers"
   ]
  },
  {
   "cell_type": "markdown",
   "metadata": {},
   "source": [
    "#### Transactors\n",
    "- Credit card users who pay off their balance every month with least amount of interest charges. \n",
    "- They are careful with their money. \n",
    "- They have lowest balance and cash advance\n"
   ]
  },
  {
   "cell_type": "code",
   "execution_count": null,
   "metadata": {
    "slideshow": {
     "slide_type": "slide"
    }
   },
   "outputs": [],
   "source": [
    "org_cluster_centers"
   ]
  },
  {
   "cell_type": "markdown",
   "metadata": {},
   "source": [
    "#### Revolvers\n",
    "- Credit card users who pay off only part of their monthly balance . They use credit card as a loan.  \n",
    "- They have highest balance and cash advance, high cash advance frequency, low purchase frequency, high cash advance transactions, low percentage of full payment\n",
    "- Their credit limit is also high. (Lucrative group for banks 😟.)"
   ]
  },
  {
   "cell_type": "code",
   "execution_count": null,
   "metadata": {
    "slideshow": {
     "slide_type": "slide"
    }
   },
   "outputs": [],
   "source": [
    "org_cluster_centers"
   ]
  },
  {
   "cell_type": "markdown",
   "metadata": {},
   "source": [
    "#### VIP/Prime\n",
    "- Credit card users who have high credit limit. \n",
    "- They have high one-off purchases frequency, high number of purchase transactions. \n",
    "- They have high balance but they also have relatively higher percentage of full payment, similar to transactors\n",
    "- Target for increase credit limit (and increase spending habits )"
   ]
  },
  {
   "cell_type": "code",
   "execution_count": null,
   "metadata": {
    "slideshow": {
     "slide_type": "slide"
    }
   },
   "outputs": [],
   "source": [
    "org_cluster_centers"
   ]
  },
  {
   "cell_type": "markdown",
   "metadata": {
    "slideshow": {
     "slide_type": "-"
    }
   },
   "source": [
    "#### Low activity\n",
    "- Credit card users who have low tenure, low credit limit.\n",
    "- There is not much activity in the account. It has low balance and not many purchases. "
   ]
  },
  {
   "cell_type": "markdown",
   "metadata": {
    "slideshow": {
     "slide_type": "slide"
    }
   },
   "source": [
    "### More on interpretation of clusters\n",
    "\n",
    "- In real life, you'll look through all features in detail before assigning meaning to clusters. \n",
    "- This is not always easy, especially when you have a large number of features and clusters. \n",
    "- One way to approach this would be visualizing the distribution of feature values for each cluster as shown below. \n",
    "- Some domain knowledge would definitely help at this stage.  "
   ]
  },
  {
   "cell_type": "code",
   "execution_count": null,
   "metadata": {
    "slideshow": {
     "slide_type": "slide"
    }
   },
   "outputs": [],
   "source": [
    "# concatenate the cluster labels to our original dataframe\n",
    "creditcard_df_cluster = pd.concat(\n",
    "    [creditcard_df, pd.DataFrame({\"cluster\": labels})], axis=1\n",
    ")\n",
    "creditcard_df_cluster.head()"
   ]
  },
  {
   "cell_type": "code",
   "execution_count": null,
   "metadata": {
    "slideshow": {
     "slide_type": "-"
    }
   },
   "outputs": [],
   "source": [
    "creditcard_df_cluster[\"cluster\"].unique()"
   ]
  },
  {
   "cell_type": "code",
   "execution_count": null,
   "metadata": {},
   "outputs": [],
   "source": [
    "creditcard_df.columns.shape"
   ]
  },
  {
   "cell_type": "code",
   "execution_count": null,
   "metadata": {
    "slideshow": {
     "slide_type": "slide"
    }
   },
   "outputs": [],
   "source": [
    "# Plot the histogram of various clusters\n",
    "for i in transformed_df.columns:\n",
    "    plt.figure(figsize=(35, 5))\n",
    "    for j in range(4):\n",
    "        plt.subplot(1, 4, j + 1)\n",
    "        cluster = creditcard_df_cluster[creditcard_df_cluster[\"cluster\"] == j]\n",
    "        cluster[i].hist(bins=20)\n",
    "        plt.title(\"{}    \\nCluster {} \".format(i, j))\n",
    "\n",
    "    plt.show()"
   ]
  },
  {
   "cell_type": "markdown",
   "metadata": {
    "slideshow": {
     "slide_type": "slide"
    }
   },
   "source": [
    "### Practice exercise for you\n",
    "- Try out different values for `n_clusters` in `KMeans` and examine the clusters. \n",
    "- If you are feeling adventurous, you may try customer segmentation on [All Lending Club loan data](https://www.kaggle.com/wordsforthewise/lending-club). "
   ]
  },
  {
   "cell_type": "markdown",
   "metadata": {
    "slideshow": {
     "slide_type": "skip"
    }
   },
   "source": [
    "<br><br><br><br>"
   ]
  },
  {
   "cell_type": "markdown",
   "metadata": {
    "slideshow": {
     "slide_type": "slide"
    }
   },
   "source": [
    "## Final comments and summary "
   ]
  },
  {
   "cell_type": "markdown",
   "metadata": {
    "slideshow": {
     "slide_type": "slide"
    }
   },
   "source": [
    "### A comment on initialization\n",
    "\n",
    "- The initialization of K-Means is stochastic, can this affect the results?\n",
    "    - Yes! Big time.  \n",
    "- Let's  look at an example. "
   ]
  },
  {
   "cell_type": "code",
   "execution_count": null,
   "metadata": {
    "slideshow": {
     "slide_type": "slide"
    }
   },
   "outputs": [],
   "source": [
    "X, y = make_blobs(n_samples=20, centers=3, n_features=2, random_state=10)\n",
    "mglearn.discrete_scatter(X[:, 0], X[:, 1], markers=\"o\");"
   ]
  },
  {
   "cell_type": "code",
   "execution_count": null,
   "metadata": {},
   "outputs": [],
   "source": [
    "k = 3\n",
    "n_examples = X.shape[0]\n",
    "toy_df = pd.DataFrame(X, columns=[\"feat1\", \"feat2\"])"
   ]
  },
  {
   "cell_type": "markdown",
   "metadata": {
    "slideshow": {
     "slide_type": "slide"
    }
   },
   "source": [
    "### Example: Bad initialization "
   ]
  },
  {
   "cell_type": "code",
   "execution_count": null,
   "metadata": {
    "slideshow": {
     "slide_type": "-"
    }
   },
   "outputs": [],
   "source": [
    "np.random.seed(seed=10)\n",
    "centroids_idx = np.random.choice(range(0, n_examples), size=k)\n",
    "centroids = X[centroids_idx]"
   ]
  },
  {
   "cell_type": "code",
   "execution_count": null,
   "metadata": {},
   "outputs": [],
   "source": [
    "plot_iterative(toy_df, 6, 4, centroids)"
   ]
  },
  {
   "cell_type": "markdown",
   "metadata": {
    "slideshow": {
     "slide_type": "slide"
    }
   },
   "source": [
    "### Example: Better initialization \n",
    "The following initialization seems much better. "
   ]
  },
  {
   "cell_type": "code",
   "execution_count": null,
   "metadata": {},
   "outputs": [],
   "source": [
    "np.random.seed(seed=2)\n",
    "centroids_idx = np.random.choice(range(0, n_examples), size=k)\n",
    "centroids = X[centroids_idx]"
   ]
  },
  {
   "cell_type": "code",
   "execution_count": null,
   "metadata": {},
   "outputs": [],
   "source": [
    "plot_iterative(toy_df, 6, 4, centroids)"
   ]
  },
  {
   "cell_type": "markdown",
   "metadata": {
    "slideshow": {
     "slide_type": "slide"
    }
   },
   "source": [
    "### What can we do about it?\n",
    "\n",
    "- One strategy is to run the algorithm several times. \n",
    "    - Check out `n_init` parameter of [`sklearn`'s `KMeans`](https://scikit-learn.org/stable/modules/generated/sklearn.cluster.KMeans.html). \n",
    "- Is it possible to pick `K` in a smart way? \n",
    "    - Yes! We can use the so-called [K-Means++](http://ilpubs.stanford.edu:8090/778/1/2006-13.pdf).\n",
    "    - Intuitively, it picks the initial centroids which are far away from each other. \n",
    "    - In other words, K-Means++ gives more chance to select points that are far away from centroids already picked.    \n",
    "    - By default `sklearn` uses this strategy for initialization. "
   ]
  },
  {
   "cell_type": "markdown",
   "metadata": {
    "slideshow": {
     "slide_type": "slide"
    }
   },
   "source": [
    "### Important points to remember\n",
    "\n",
    "- Clustering is a common unsupervised approach to identify underlying structure in data and grouping points based on similarity. \n",
    "- K-Means is a popular clustering algorithm. "
   ]
  },
  {
   "cell_type": "markdown",
   "metadata": {
    "slideshow": {
     "slide_type": "slide"
    }
   },
   "source": [
    "### Important points to remember\n",
    "\n",
    "**K-Means**\n",
    "- It requires us to specify the number of clusters in advance. \n",
    "- Each example is assigned to one (and only one) cluster.\n",
    "- The labels provided by the algorithm have no actual meaning. \n",
    "- The centroids live in the same space as of the dataset but they are **not** actual data points, but instead are average points.\n",
    "- It always converges. Convergence is dependent upon the initial centers and it may converge to a sub-optimal solution. "
   ]
  },
  {
   "cell_type": "markdown",
   "metadata": {
    "slideshow": {
     "slide_type": "slide"
    }
   },
   "source": [
    "### Important points to remember\n",
    "\n",
    "- Two ways to provide insight into how many clusters are reasonable for the give problem are: **the Elbow method** and **the Silhouette method**.  \n",
    "- Some applications of K-Means clustering include data exploration, feature engineering, customer segmentation, and document clustering. \n",
    "- It takes fair amount of manual effort and domain knowledge to interpret clusters returned by K-Means. "
   ]
  },
  {
   "cell_type": "markdown",
   "metadata": {
    "slideshow": {
     "slide_type": "slide"
    }
   },
   "source": [
    "## Resources \n",
    "- [\"Spaghetti Sauce\" talk by Malcom Gladwell](https://www.ted.com/talks/malcolm_gladwell_on_spaghetti_sauce?language=en)\n",
    "- [Visualizing-k-means-clustering](https://www.naftaliharris.com/blog/visualizing-k-means-clustering/) \n",
    "- [Visualizing K-Means algorithm with D3.js](http://tech.nitoyon.com/en/blog/2013/11/07/k-means/)\n",
    "- [Clustering with Scikit with GIFs](https://dashee87.github.io/data%20science/general/Clustering-with-Scikit-with-GIFs/)\n",
    "- [`sklearn` clustering documentation](https://scikit-learn.org/stable/modules/clustering.html)"
   ]
  },
  {
   "cell_type": "markdown",
   "metadata": {
    "slideshow": {
     "slide_type": "slide"
    }
   },
   "source": [
    "<br><br><br><br>"
   ]
  },
  {
   "cell_type": "markdown",
   "metadata": {
    "slideshow": {
     "slide_type": "slide"
    }
   },
   "source": [
    "## Questions for class Discussion <a name=\"questions\"></a>"
   ]
  }
 ],
 "metadata": {
  "kernelspec": {
   "display_name": "Python 3 (ipykernel)",
   "language": "python",
   "name": "python3"
  },
  "language_info": {
   "codemirror_mode": {
    "name": "ipython",
    "version": 3
   },
   "file_extension": ".py",
   "mimetype": "text/x-python",
   "name": "python",
   "nbconvert_exporter": "python",
   "pygments_lexer": "ipython3",
   "version": "3.9.13"
  }
 },
 "nbformat": 4,
 "nbformat_minor": 4
}
